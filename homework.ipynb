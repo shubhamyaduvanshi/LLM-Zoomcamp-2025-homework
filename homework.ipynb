{
 "cells": [
  {
   "cell_type": "code",
   "execution_count": 1,
   "id": "d44ae765-48c4-48fd-8fd1-9be66122b7c5",
   "metadata": {},
   "outputs": [
    {
     "name": "stdout",
     "output_type": "stream",
     "text": [
      "Python 3.12.3\n"
     ]
    }
   ],
   "source": [
    "!python -V"
   ]
  },
  {
   "cell_type": "code",
   "execution_count": 28,
   "id": "fc9a4cc8-8dee-4d4d-beeb-1a789ee18228",
   "metadata": {},
   "outputs": [],
   "source": [
    "import os\n",
    "os.environ[\"ARROW_FLAG_DISABLE_LEGACY_EXTENSION_TYPE\"] = \"1\""
   ]
  },
  {
   "cell_type": "code",
   "execution_count": 29,
   "id": "b59d6262-2fd2-4b49-a161-b11aa181c728",
   "metadata": {},
   "outputs": [],
   "source": [
    "import pandas as pd"
   ]
  },
  {
   "cell_type": "code",
   "execution_count": 30,
   "id": "61b0aca0-fed2-434f-9981-e794d4199278",
   "metadata": {},
   "outputs": [],
   "source": [
    "import pickle"
   ]
  },
  {
   "cell_type": "code",
   "execution_count": 32,
   "id": "c0d19756-aa32-4d1c-ac7b-fa892f7c94fc",
   "metadata": {},
   "outputs": [
    {
     "name": "stdout",
     "output_type": "stream",
     "text": [
      "Collecting seaborn\n",
      "  Using cached seaborn-0.13.2-py3-none-any.whl.metadata (5.4 kB)\n",
      "Requirement already satisfied: numpy!=1.24.0,>=1.20 in /mnt/c/Users/shubham_yadav/Documents/COXA-ENIT/lab/venv/lib/python3.12/site-packages (from seaborn) (2.1.3)\n",
      "Requirement already satisfied: pandas>=1.2 in /mnt/c/Users/shubham_yadav/Documents/COXA-ENIT/lab/venv/lib/python3.12/site-packages (from seaborn) (2.3.1)\n",
      "Collecting matplotlib!=3.6.1,>=3.4 (from seaborn)\n",
      "  Downloading matplotlib-3.10.5-cp312-cp312-manylinux2014_x86_64.manylinux_2_17_x86_64.whl.metadata (11 kB)\n",
      "Collecting contourpy>=1.0.1 (from matplotlib!=3.6.1,>=3.4->seaborn)\n",
      "  Downloading contourpy-1.3.3-cp312-cp312-manylinux_2_27_x86_64.manylinux_2_28_x86_64.whl.metadata (5.5 kB)\n",
      "Collecting cycler>=0.10 (from matplotlib!=3.6.1,>=3.4->seaborn)\n",
      "  Using cached cycler-0.12.1-py3-none-any.whl.metadata (3.8 kB)\n",
      "Collecting fonttools>=4.22.0 (from matplotlib!=3.6.1,>=3.4->seaborn)\n",
      "  Using cached fonttools-4.59.0-cp312-cp312-manylinux1_x86_64.manylinux2014_x86_64.manylinux_2_17_x86_64.manylinux_2_5_x86_64.whl.metadata (107 kB)\n",
      "Collecting kiwisolver>=1.3.1 (from matplotlib!=3.6.1,>=3.4->seaborn)\n",
      "  Using cached kiwisolver-1.4.8-cp312-cp312-manylinux_2_17_x86_64.manylinux2014_x86_64.whl.metadata (6.2 kB)\n",
      "Requirement already satisfied: packaging>=20.0 in /mnt/c/Users/shubham_yadav/Documents/COXA-ENIT/lab/venv/lib/python3.12/site-packages (from matplotlib!=3.6.1,>=3.4->seaborn) (25.0)\n",
      "Requirement already satisfied: pillow>=8 in /mnt/c/Users/shubham_yadav/Documents/COXA-ENIT/lab/venv/lib/python3.12/site-packages (from matplotlib!=3.6.1,>=3.4->seaborn) (11.3.0)\n",
      "Collecting pyparsing>=2.3.1 (from matplotlib!=3.6.1,>=3.4->seaborn)\n",
      "  Using cached pyparsing-3.2.3-py3-none-any.whl.metadata (5.0 kB)\n",
      "Requirement already satisfied: python-dateutil>=2.7 in /mnt/c/Users/shubham_yadav/Documents/COXA-ENIT/lab/venv/lib/python3.12/site-packages (from matplotlib!=3.6.1,>=3.4->seaborn) (2.9.0.post0)\n",
      "Requirement already satisfied: pytz>=2020.1 in /mnt/c/Users/shubham_yadav/Documents/COXA-ENIT/lab/venv/lib/python3.12/site-packages (from pandas>=1.2->seaborn) (2025.2)\n",
      "Requirement already satisfied: tzdata>=2022.7 in /mnt/c/Users/shubham_yadav/Documents/COXA-ENIT/lab/venv/lib/python3.12/site-packages (from pandas>=1.2->seaborn) (2025.2)\n",
      "Requirement already satisfied: six>=1.5 in /mnt/c/Users/shubham_yadav/Documents/COXA-ENIT/lab/venv/lib/python3.12/site-packages (from python-dateutil>=2.7->matplotlib!=3.6.1,>=3.4->seaborn) (1.17.0)\n",
      "Using cached seaborn-0.13.2-py3-none-any.whl (294 kB)\n",
      "Downloading matplotlib-3.10.5-cp312-cp312-manylinux2014_x86_64.manylinux_2_17_x86_64.whl (8.7 MB)\n",
      "\u001b[2K   \u001b[90m━━━━━━━━━━━━━━━━━━━━━━━━━━━━━━━━━━━━━━━━\u001b[0m \u001b[32m8.7/8.7 MB\u001b[0m \u001b[31m4.8 MB/s\u001b[0m eta \u001b[36m0:00:00\u001b[0m00:01\u001b[0m00:01\u001b[0m\n",
      "\u001b[?25hDownloading contourpy-1.3.3-cp312-cp312-manylinux_2_27_x86_64.manylinux_2_28_x86_64.whl (362 kB)\n",
      "\u001b[2K   \u001b[90m━━━━━━━━━━━━━━━━━━━━━━━━━━━━━━━━━━━━━━━━\u001b[0m \u001b[32m362.6/362.6 kB\u001b[0m \u001b[31m5.5 MB/s\u001b[0m eta \u001b[36m0:00:00\u001b[0ma \u001b[36m0:00:01\u001b[0m\n",
      "\u001b[?25hDownloading cycler-0.12.1-py3-none-any.whl (8.3 kB)\n",
      "Downloading fonttools-4.59.0-cp312-cp312-manylinux1_x86_64.manylinux2014_x86_64.manylinux_2_17_x86_64.manylinux_2_5_x86_64.whl (4.9 MB)\n",
      "\u001b[2K   \u001b[90m━━━━━━━━━━━━━━━━━━━━━━━━━━━━━━━━━━━━━━━━\u001b[0m \u001b[32m4.9/4.9 MB\u001b[0m \u001b[31m3.3 MB/s\u001b[0m eta \u001b[36m0:00:00\u001b[0m00:01\u001b[0m00:01\u001b[0m\n",
      "\u001b[?25hDownloading kiwisolver-1.4.8-cp312-cp312-manylinux_2_17_x86_64.manylinux2014_x86_64.whl (1.5 MB)\n",
      "\u001b[2K   \u001b[90m━━━━━━━━━━━━━━━━━━━━━━━━━━━━━━━━━━━━━━━━\u001b[0m \u001b[32m1.5/1.5 MB\u001b[0m \u001b[31m2.8 MB/s\u001b[0m eta \u001b[36m0:00:00\u001b[0m00:01\u001b[0m00:01\u001b[0m\n",
      "\u001b[?25hDownloading pyparsing-3.2.3-py3-none-any.whl (111 kB)\n",
      "\u001b[2K   \u001b[90m━━━━━━━━━━━━━━━━━━━━━━━━━━━━━━━━━━━━━━━━\u001b[0m \u001b[32m111.1/111.1 kB\u001b[0m \u001b[31m2.1 MB/s\u001b[0m eta \u001b[36m0:00:00\u001b[0m \u001b[36m0:00:01\u001b[0m\n",
      "\u001b[?25hInstalling collected packages: pyparsing, kiwisolver, fonttools, cycler, contourpy, matplotlib, seaborn\n",
      "Successfully installed contourpy-1.3.3 cycler-0.12.1 fonttools-4.59.0 kiwisolver-1.4.8 matplotlib-3.10.5 pyparsing-3.2.3 seaborn-0.13.2\n"
     ]
    }
   ],
   "source": [
    "!pip install seaborn"
   ]
  },
  {
   "cell_type": "code",
   "execution_count": 33,
   "id": "ccf01f14-1db1-47e6-a588-7ae71dbb75d2",
   "metadata": {},
   "outputs": [],
   "source": [
    "import seaborn as sns\n",
    "import matplotlib.pyplot as plt"
   ]
  },
  {
   "cell_type": "code",
   "execution_count": 34,
   "id": "b514ee1f-454d-4393-a578-51e427bb6426",
   "metadata": {},
   "outputs": [],
   "source": [
    "from sklearn.feature_extraction import DictVectorizer\n",
    "from sklearn.linear_model import LinearRegression\n",
    "from sklearn.linear_model import Lasso\n",
    "from sklearn.linear_model import Ridge\n",
    "\n",
    "from sklearn.metrics import root_mean_squared_error"
   ]
  },
  {
   "cell_type": "code",
   "execution_count": 17,
   "id": "5c25cfb8-020b-48e5-9e8a-a84043e08ade",
   "metadata": {},
   "outputs": [
    {
     "name": "stdout",
     "output_type": "stream",
     "text": [
      "Collecting pyarrow\n",
      "  Downloading pyarrow-21.0.0-cp312-cp312-manylinux_2_28_x86_64.whl.metadata (3.3 kB)\n",
      "Downloading pyarrow-21.0.0-cp312-cp312-manylinux_2_28_x86_64.whl (42.8 MB)\n",
      "\u001b[2K   \u001b[90m━━━━━━━━━━━━━━━━━━━━━━━━━━━━━━━━━━━━━━━━\u001b[0m \u001b[32m42.8/42.8 MB\u001b[0m \u001b[31m3.1 MB/s\u001b[0m eta \u001b[36m0:00:00\u001b[0m00:01\u001b[0m00:01\u001b[0m\n",
      "\u001b[?25hInstalling collected packages: pyarrow\n",
      "Successfully installed pyarrow-21.0.0\n"
     ]
    }
   ],
   "source": [
    "!pip install pyarrow"
   ]
  },
  {
   "cell_type": "code",
   "execution_count": 18,
   "id": "e27a83d9-0216-4e9f-ab3b-ee894620bcee",
   "metadata": {},
   "outputs": [
    {
     "name": "stdout",
     "output_type": "stream",
     "text": [
      "Collecting fastparquet\n",
      "  Downloading fastparquet-2024.11.0-cp312-cp312-manylinux_2_17_x86_64.manylinux2014_x86_64.whl.metadata (4.2 kB)\n",
      "Requirement already satisfied: pandas>=1.5.0 in /mnt/c/Users/shubham_yadav/Documents/COXA-ENIT/lab/venv/lib/python3.12/site-packages (from fastparquet) (2.3.1)\n",
      "Requirement already satisfied: numpy in /mnt/c/Users/shubham_yadav/Documents/COXA-ENIT/lab/venv/lib/python3.12/site-packages (from fastparquet) (2.1.3)\n",
      "Collecting cramjam>=2.3 (from fastparquet)\n",
      "  Downloading cramjam-2.11.0-cp312-cp312-manylinux_2_17_x86_64.manylinux2014_x86_64.whl.metadata (5.6 kB)\n",
      "Collecting fsspec (from fastparquet)\n",
      "  Using cached fsspec-2025.7.0-py3-none-any.whl.metadata (12 kB)\n",
      "Requirement already satisfied: packaging in /mnt/c/Users/shubham_yadav/Documents/COXA-ENIT/lab/venv/lib/python3.12/site-packages (from fastparquet) (25.0)\n",
      "Requirement already satisfied: python-dateutil>=2.8.2 in /mnt/c/Users/shubham_yadav/Documents/COXA-ENIT/lab/venv/lib/python3.12/site-packages (from pandas>=1.5.0->fastparquet) (2.9.0.post0)\n",
      "Requirement already satisfied: pytz>=2020.1 in /mnt/c/Users/shubham_yadav/Documents/COXA-ENIT/lab/venv/lib/python3.12/site-packages (from pandas>=1.5.0->fastparquet) (2025.2)\n",
      "Requirement already satisfied: tzdata>=2022.7 in /mnt/c/Users/shubham_yadav/Documents/COXA-ENIT/lab/venv/lib/python3.12/site-packages (from pandas>=1.5.0->fastparquet) (2025.2)\n",
      "Requirement already satisfied: six>=1.5 in /mnt/c/Users/shubham_yadav/Documents/COXA-ENIT/lab/venv/lib/python3.12/site-packages (from python-dateutil>=2.8.2->pandas>=1.5.0->fastparquet) (1.17.0)\n",
      "Downloading fastparquet-2024.11.0-cp312-cp312-manylinux_2_17_x86_64.manylinux2014_x86_64.whl (1.8 MB)\n",
      "\u001b[2K   \u001b[90m━━━━━━━━━━━━━━━━━━━━━━━━━━━━━━━━━━━━━━━━\u001b[0m \u001b[32m1.8/1.8 MB\u001b[0m \u001b[31m962.2 kB/s\u001b[0m eta \u001b[36m0:00:00\u001b[0m00:01\u001b[0m00:01\u001b[0m\n",
      "\u001b[?25hDownloading cramjam-2.11.0-cp312-cp312-manylinux_2_17_x86_64.manylinux2014_x86_64.whl (2.0 MB)\n",
      "\u001b[2K   \u001b[90m━━━━━━━━━━━━━━━━━━━━━━━━━━━━━━━━━━━━━━━━\u001b[0m \u001b[32m2.0/2.0 MB\u001b[0m \u001b[31m1.3 MB/s\u001b[0m eta \u001b[36m0:00:00\u001b[0m00:01\u001b[0m00:01\u001b[0m\n",
      "\u001b[?25hDownloading fsspec-2025.7.0-py3-none-any.whl (199 kB)\n",
      "\u001b[2K   \u001b[90m━━━━━━━━━━━━━━━━━━━━━━━━━━━━━━━━━━━━━━━━\u001b[0m \u001b[32m199.6/199.6 kB\u001b[0m \u001b[31m1.3 MB/s\u001b[0m eta \u001b[36m0:00:00\u001b[0ma \u001b[36m0:00:01\u001b[0m\n",
      "\u001b[?25hInstalling collected packages: fsspec, cramjam, fastparquet\n",
      "Successfully installed cramjam-2.11.0 fastparquet-2024.11.0 fsspec-2025.7.0\n"
     ]
    }
   ],
   "source": [
    "!pip install fastparquet"
   ]
  },
  {
   "cell_type": "code",
   "execution_count": 24,
   "id": "79341d76-1e12-452a-b91a-0d2cb63084ba",
   "metadata": {},
   "outputs": [
    {
     "name": "stdout",
     "output_type": "stream",
     "text": [
      "Requirement already satisfied: pandas in /mnt/c/Users/shubham_yadav/Documents/COXA-ENIT/lab/venv/lib/python3.12/site-packages (2.3.1)\n",
      "Requirement already satisfied: pyarrow in /mnt/c/Users/shubham_yadav/Documents/COXA-ENIT/lab/venv/lib/python3.12/site-packages (21.0.0)\n",
      "Requirement already satisfied: numpy>=1.26.0 in /mnt/c/Users/shubham_yadav/Documents/COXA-ENIT/lab/venv/lib/python3.12/site-packages (from pandas) (2.1.3)\n",
      "Requirement already satisfied: python-dateutil>=2.8.2 in /mnt/c/Users/shubham_yadav/Documents/COXA-ENIT/lab/venv/lib/python3.12/site-packages (from pandas) (2.9.0.post0)\n",
      "Requirement already satisfied: pytz>=2020.1 in /mnt/c/Users/shubham_yadav/Documents/COXA-ENIT/lab/venv/lib/python3.12/site-packages (from pandas) (2025.2)\n",
      "Requirement already satisfied: tzdata>=2022.7 in /mnt/c/Users/shubham_yadav/Documents/COXA-ENIT/lab/venv/lib/python3.12/site-packages (from pandas) (2025.2)\n",
      "Requirement already satisfied: six>=1.5 in /mnt/c/Users/shubham_yadav/Documents/COXA-ENIT/lab/venv/lib/python3.12/site-packages (from python-dateutil>=2.8.2->pandas) (1.17.0)\n"
     ]
    }
   ],
   "source": [
    "!pip install --upgrade pandas pyarrow"
   ]
  },
  {
   "cell_type": "code",
   "execution_count": 35,
   "id": "121392aa-a466-428a-afad-c3e87a5a1e54",
   "metadata": {},
   "outputs": [
    {
     "name": "stdout",
     "output_type": "stream",
     "text": [
      "/mnt/c/Users/shubham_yadav/Documents/COXA-ENIT/lab/venv/MLOps Zoompcamp\n",
      "True\n"
     ]
    }
   ],
   "source": [
    "import os\n",
    "print(os.getcwd())  # Confirm current working directory\n",
    "print(os.path.isfile('yellow_tripdata_2023-01.parquet'))  # Confirm file existence"
   ]
  },
  {
   "cell_type": "code",
   "execution_count": 36,
   "id": "b3eabddb-0a53-4d8c-8b6a-9672311611c9",
   "metadata": {},
   "outputs": [],
   "source": [
    "!export ARROW_FLAG_DISABLE_LEGACY_EXTENSION_TYPE=1"
   ]
  },
  {
   "cell_type": "code",
   "execution_count": 55,
   "id": "62b02766-fb44-4344-b12b-b64fe1a19f32",
   "metadata": {},
   "outputs": [
    {
     "name": "stdout",
     "output_type": "stream",
     "text": [
      "['VendorID', 'tpep_pickup_datetime', 'tpep_dropoff_datetime', 'passenger_count', 'trip_distance', 'RatecodeID', 'store_and_fwd_flag', 'PULocationID', 'DOLocationID', 'payment_type', 'fare_amount', 'extra', 'mta_tax', 'tip_amount', 'tolls_amount', 'improvement_surcharge', 'total_amount', 'congestion_surcharge', 'airport_fee']\n",
      "Number of columns: 19\n",
      "Fraction of records left after removing outliers: 0.9812\n",
      "Standard deviation of trip duration in January 2023: 42.59 minutes\n",
      "        PULocationID DOLocationID\n",
      "0                161          141\n",
      "1                 43          237\n",
      "2                 48          238\n",
      "3                138            7\n",
      "4                107           79\n",
      "...              ...          ...\n",
      "3066761          107           48\n",
      "3066762          112           75\n",
      "3066763          114          239\n",
      "3066764          230           79\n",
      "3066765          262          143\n",
      "\n",
      "[3009173 rows x 2 columns]\n",
      "Feature matrix dimensionality: (3009173, 515)\n"
     ]
    }
   ],
   "source": [
    "df = pd.read_parquet('yellow_tripdata_2023-01.parquet',engine='fastparquet')\n",
    "print(df.columns.tolist())\n",
    "print(f\"Number of columns: {df.shape[1]}\")\n",
    "\n",
    "df['duration'] = (df['tpep_dropoff_datetime'] - df['tpep_pickup_datetime']).dt.total_seconds() / 60\n",
    "# df.duration = df.duration.apply(lambda td: td.total_seconds() / 60)\n",
    "filtered_df = df[(df['duration'] >= 1) & (df['duration'] <= 60)]\n",
    "\n",
    "fraction_left = len(filtered_df) / len(df)\n",
    "print(f\"Fraction of records left after removing outliers: {fraction_left:.4f}\")\n",
    "\n",
    "std_duration = df['duration'].std()\n",
    "print(f\"Standard deviation of trip duration in January 2023: {std_duration:.2f} minutes\")\n",
    "\n",
    "df = df[(df.duration >= 1) & (df.duration <= 60)]\n",
    "\n",
    "categorical = ['PULocationID', 'DOLocationID']\n",
    "numerical = ['trip_distance']\n",
    "\n",
    "df[categorical] = df[categorical].astype(str)\n",
    "print(df[categorical])\n",
    "\n",
    "dicts = df[categorical].to_dict(orient='records')\n",
    "dv = DictVectorizer()\n",
    "X = dv.fit_transform(dicts)\n",
    "print(f\"Feature matrix dimensionality: {X.shape}\")"
   ]
  },
  {
   "cell_type": "code",
   "execution_count": 56,
   "id": "cdc784a3-7732-4416-90aa-151935607d34",
   "metadata": {},
   "outputs": [
    {
     "data": {
      "text/plain": [
       "7.658406261871906"
      ]
     },
     "execution_count": 56,
     "metadata": {},
     "output_type": "execute_result"
    }
   ],
   "source": [
    "train_dicts = df[categorical + numerical].to_dict(orient='records')\n",
    "\n",
    "dv = DictVectorizer()\n",
    "X_train = dv.fit_transform(train_dicts)\n",
    "\n",
    "target = 'duration'\n",
    "y_train = df[target].values\n",
    "\n",
    "lr = LinearRegression()\n",
    "lr.fit(X_train, y_train)\n",
    "\n",
    "y_pred = lr.predict(X_train)\n",
    "\n",
    "root_mean_squared_error(y_train, y_pred)"
   ]
  },
  {
   "cell_type": "code",
   "execution_count": 57,
   "id": "ea9e5149-1e53-4331-bc64-c801d559fac9",
   "metadata": {},
   "outputs": [
    {
     "name": "stderr",
     "output_type": "stream",
     "text": [
      "/tmp/ipykernel_15586/1672306066.py:1: UserWarning: \n",
      "\n",
      "`distplot` is a deprecated function and will be removed in seaborn v0.14.0.\n",
      "\n",
      "Please adapt your code to use either `displot` (a figure-level function with\n",
      "similar flexibility) or `histplot` (an axes-level function for histograms).\n",
      "\n",
      "For a guide to updating your code to use the new functions, please see\n",
      "https://gist.github.com/mwaskom/de44147ed2974457ad6372750bbe5751\n",
      "\n",
      "  sns.distplot(y_pred, label='prediction')\n",
      "/tmp/ipykernel_15586/1672306066.py:2: UserWarning: \n",
      "\n",
      "`distplot` is a deprecated function and will be removed in seaborn v0.14.0.\n",
      "\n",
      "Please adapt your code to use either `displot` (a figure-level function with\n",
      "similar flexibility) or `histplot` (an axes-level function for histograms).\n",
      "\n",
      "For a guide to updating your code to use the new functions, please see\n",
      "https://gist.github.com/mwaskom/de44147ed2974457ad6372750bbe5751\n",
      "\n",
      "  sns.distplot(y_train, label='actual')\n"
     ]
    },
    {
     "data": {
      "text/plain": [
       "<matplotlib.legend.Legend at 0x7fcc34c19190>"
      ]
     },
     "execution_count": 57,
     "metadata": {},
     "output_type": "execute_result"
    },
    {
     "data": {
      "image/png": "[encoded data removed]",
      "text/plain": [
       "<Figure size 640x480 with 1 Axes>"
      ]
     },
     "metadata": {},
     "output_type": "display_data"
    }
   ],
   "source": [
    "sns.distplot(y_pred, label='prediction')\n",
    "sns.distplot(y_train, label='actual')\n",
    "\n",
    "plt.legend()"
   ]
  },
  {
   "cell_type": "code",
   "execution_count": 61,
   "id": "1d86e07e-ed84-41cd-a02f-71838f33640f",
   "metadata": {},
   "outputs": [],
   "source": [
    "def read_dataframe(filename):\n",
    "    if filename.endswith('.csv'):\n",
    "        df = pd.read_csv(filename)\n",
    "\n",
    "        df.tpep_dropoff_datetime = pd.to_datetime(df.tpep_dropoff_datetime)\n",
    "        df.tpep_pickup_datetime = pd.to_datetime(df.tpep_pickup_datetime)\n",
    "    elif filename.endswith('.parquet'):\n",
    "        df = pd.read_parquet(filename,engine='fastparquet')\n",
    "\n",
    "    df['duration'] = df.tpep_dropoff_datetime - df.tpep_pickup_datetime\n",
    "    df.duration = df.duration.apply(lambda td: td.total_seconds() / 60)\n",
    "\n",
    "    df = df[(df.duration >= 1) & (df.duration <= 60)]\n",
    "\n",
    "    categorical = ['PULocationID', 'DOLocationID']\n",
    "    df[categorical] = df[categorical].astype(str)\n",
    "        \n",
    "    return df"
   ]
  },
  {
   "cell_type": "code",
   "execution_count": 62,
   "id": "e71c01ee-07b5-41a3-8cf1-8075914cb1eb",
   "metadata": {},
   "outputs": [],
   "source": [
    "df_train = read_dataframe('yellow_tripdata_2023-01.parquet')\n",
    "df_val = read_dataframe('yellow_tripdata_2023-02.parquet')"
   ]
  },
  {
   "cell_type": "code",
   "execution_count": 63,
   "id": "41218ea1-832e-4e23-a6da-855c7b10c876",
   "metadata": {},
   "outputs": [
    {
     "data": {
      "text/plain": [
       "(3009173, 2855951)"
      ]
     },
     "execution_count": 63,
     "metadata": {},
     "output_type": "execute_result"
    }
   ],
   "source": [
    "len(df_train), len(df_val)"
   ]
  },
  {
   "cell_type": "code",
   "execution_count": 64,
   "id": "b39a638a-cd36-455d-8ceb-c68bd85da337",
   "metadata": {},
   "outputs": [],
   "source": [
    "df_train['PU_DO'] = df_train['PULocationID'] + '_' + df_train['DOLocationID']\n",
    "df_val['PU_DO'] = df_val['PULocationID'] + '_' + df_val['DOLocationID']"
   ]
  },
  {
   "cell_type": "code",
   "execution_count": 71,
   "id": "c28021ac-9228-4e08-9c00-a9b32efafeae",
   "metadata": {},
   "outputs": [
    {
     "name": "stdout",
     "output_type": "stream",
     "text": [
      "         VendorID tpep_pickup_datetime tpep_dropoff_datetime  passenger_count  \\\n",
      "0             1.0  2023-02-01 00:32:53   2023-02-01 00:34:34              2.0   \n",
      "3             1.0  2023-02-01 00:29:33   2023-02-01 01:01:38              0.0   \n",
      "4             2.0  2023-02-01 00:12:28   2023-02-01 00:25:46              1.0   \n",
      "5             1.0  2023-02-01 00:52:40   2023-02-01 01:07:18              1.0   \n",
      "6             1.0  2023-02-01 00:12:39   2023-02-01 00:40:36              1.0   \n",
      "...           ...                  ...                   ...              ...   \n",
      "2913950       2.0  2023-02-28 23:46:00   2023-03-01 00:05:00              NaN   \n",
      "2913951       2.0  2023-02-28 23:26:02   2023-02-28 23:37:10              NaN   \n",
      "2913952       2.0  2023-02-28 23:24:00   2023-02-28 23:38:00              NaN   \n",
      "2913953       2.0  2023-02-28 23:03:00   2023-02-28 23:10:00              NaN   \n",
      "2913954       2.0  2023-02-28 23:03:03   2023-02-28 23:12:51              NaN   \n",
      "\n",
      "         trip_distance  RatecodeID store_and_fwd_flag PULocationID  \\\n",
      "0                 0.30         1.0                  N        142.0   \n",
      "3                18.80         1.0                  N        132.0   \n",
      "4                 3.22         1.0                  N        161.0   \n",
      "5                 5.10         1.0                  N        148.0   \n",
      "6                 8.90         1.0                  N        137.0   \n",
      "...                ...         ...                ...          ...   \n",
      "2913950           4.65         NaN               None        249.0   \n",
      "2913951           2.47         NaN               None        186.0   \n",
      "2913952           3.49         NaN               None        158.0   \n",
      "2913953           2.13         NaN               None         79.0   \n",
      "2913954           2.28         NaN               None        161.0   \n",
      "\n",
      "        DOLocationID  payment_type  ...  extra  mta_tax  tip_amount  \\\n",
      "0              163.0           2.0  ...   3.50      0.5        0.00   \n",
      "3               26.0           1.0  ...   2.25      0.5        0.00   \n",
      "4              145.0           1.0  ...   1.00      0.5        3.30   \n",
      "5              236.0           1.0  ...   3.50      0.5        5.35   \n",
      "6              244.0           1.0  ...   3.50      0.5        3.50   \n",
      "...              ...           ...  ...    ...      ...         ...   \n",
      "2913950        140.0           0.0  ...   0.00      0.5        4.84   \n",
      "2913951         79.0           0.0  ...   0.00      0.5        2.65   \n",
      "2913952        143.0           0.0  ...   0.00      0.5        0.00   \n",
      "2913953        162.0           0.0  ...   0.00      0.5        2.63   \n",
      "2913954        140.0           0.0  ...   0.00      0.5        3.78   \n",
      "\n",
      "         tolls_amount  improvement_surcharge  total_amount  \\\n",
      "0                 0.0                    1.0          9.40   \n",
      "3                 0.0                    1.0         74.65   \n",
      "4                 0.0                    1.0         25.30   \n",
      "5                 0.0                    1.0         32.25   \n",
      "6                 0.0                    1.0         50.00   \n",
      "...               ...                    ...           ...   \n",
      "2913950           0.0                    1.0         29.06   \n",
      "2913951           0.0                    1.0         20.31   \n",
      "2913952           0.0                    1.0         21.64   \n",
      "2913953           0.0                    1.0         20.19   \n",
      "2913954           0.0                    1.0         22.67   \n",
      "\n",
      "         congestion_surcharge  Airport_fee   duration        PU_DO  \n",
      "0                         2.5         0.00   1.683333  142.0_163.0  \n",
      "3                         0.0         1.25  32.083333   132.0_26.0  \n",
      "4                         2.5         0.00  13.300000  161.0_145.0  \n",
      "5                         2.5         0.00  14.633333  148.0_236.0  \n",
      "6                         2.5         0.00  27.950000  137.0_244.0  \n",
      "...                       ...          ...        ...          ...  \n",
      "2913950                   NaN          NaN  19.000000  249.0_140.0  \n",
      "2913951                   NaN          NaN  11.133333   186.0_79.0  \n",
      "2913952                   NaN          NaN  14.000000  158.0_143.0  \n",
      "2913953                   NaN          NaN   7.000000   79.0_162.0  \n",
      "2913954                   NaN          NaN   9.800000  161.0_140.0  \n",
      "\n",
      "[2855951 rows x 21 columns]\n"
     ]
    }
   ],
   "source": [
    "print(df_val)"
   ]
  },
  {
   "cell_type": "code",
   "execution_count": 72,
   "id": "dcc886f9-6a6d-4d84-8ecc-0ea935a963a3",
   "metadata": {},
   "outputs": [],
   "source": [
    "categorical = ['PU_DO'] #'PULocationID', 'DOLocationID']\n",
    "numerical = ['trip_distance']\n",
    "\n",
    "dv = DictVectorizer()\n",
    "\n",
    "train_dicts = df_train[categorical + numerical].to_dict(orient='records')\n",
    "X_train = dv.fit_transform(train_dicts)\n",
    "\n",
    "val_dicts = df_val[categorical + numerical].to_dict(orient='records')\n",
    "X_val = dv.transform(val_dicts)"
   ]
  },
  {
   "cell_type": "code",
   "execution_count": 73,
   "id": "b8a04fb9-9b13-49d4-8b48-9228656a7bb0",
   "metadata": {},
   "outputs": [],
   "source": [
    "target = 'duration'\n",
    "y_train = df_train[target].values\n",
    "y_val = df_val[target].values"
   ]
  },
  {
   "cell_type": "code",
   "execution_count": 74,
   "id": "779749a3-ca43-45d7-9ebe-3668546baf57",
   "metadata": {},
   "outputs": [
    {
     "data": {
      "text/plain": [
       "14.513415443010443"
      ]
     },
     "execution_count": 74,
     "metadata": {},
     "output_type": "execute_result"
    }
   ],
   "source": [
    "lr = LinearRegression()\n",
    "lr.fit(X_train, y_train)\n",
    "\n",
    "y_pred = lr.predict(X_val)\n",
    "\n",
    "root_mean_squared_error(y_val, y_pred)"
   ]
  },
  {
   "cell_type": "code",
   "execution_count": 76,
   "id": "5c8caf1e-46a6-471c-bcf4-353d4a4aabd0",
   "metadata": {},
   "outputs": [
    {
     "data": {
      "text/plain": [
       "10.450090571020159"
      ]
     },
     "execution_count": 76,
     "metadata": {},
     "output_type": "execute_result"
    }
   ],
   "source": [
    "lr = Lasso(alpha=0.001)\n",
    "lr.fit(X_train, y_train)\n",
    "\n",
    "y_pred = lr.predict(X_val)\n",
    "\n",
    "root_mean_squared_error(y_val, y_pred)"
   ]
  },
  {
   "cell_type": "code",
   "execution_count": 77,
   "id": "9f745ea8-96d8-473c-918c-d4f5e9d92881",
   "metadata": {},
   "outputs": [
    {
     "data": {
      "text/plain": [
       "15.492549038925333"
      ]
     },
     "execution_count": 77,
     "metadata": {},
     "output_type": "execute_result"
    }
   ],
   "source": [
    "lr = Ridge(alpha=0.00001)\n",
    "lr.fit(X_train, y_train)\n",
    "\n",
    "y_pred = lr.predict(X_val)\n",
    "\n",
    "root_mean_squared_error(y_val, y_pred)"
   ]
  },
  {
   "cell_type": "code",
   "execution_count": 79,
   "id": "0ebca36f-ed43-42b8-bec6-1e81d3face33",
   "metadata": {},
   "outputs": [],
   "source": [
    "with open('models/lin_reg.bin', 'wb') as f_out:\n",
    "    pickle.dump((dv, lr), f_out)"
   ]
  },
  {
   "cell_type": "code",
   "execution_count": null,
   "id": "fd2673f4-166e-40d0-bc51-3454244b00cd",
   "metadata": {},
   "outputs": [],
   "source": []
  }
 ],
 "metadata": {
  "kernelspec": {
   "display_name": "Python 3 (ipykernel)",
   "language": "python",
   "name": "python3"
  },
  "language_info": {
   "codemirror_mode": {
    "name": "ipython",
    "version": 3
   },
   "file_extension": ".py",
   "mimetype": "text/x-python",
   "name": "python",
   "nbconvert_exporter": "python",
   "pygments_lexer": "ipython3",
   "version": "3.12.3"
  }
 },
 "nbformat": 4,
 "nbformat_minor": 5
}
