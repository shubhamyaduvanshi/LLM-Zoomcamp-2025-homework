{
 "cells": [
  {
   "cell_type": "code",
   "execution_count": 1,
   "id": "3662b093-65e2-49bc-a1a0-386cd5754e25",
   "metadata": {},
   "outputs": [
    {
     "name": "stdout",
     "output_type": "stream",
     "text": [
      "mlflow, version 3.2.0\n"
     ]
    }
   ],
   "source": [
    "!mlflow --version"
   ]
  },
  {
   "cell_type": "code",
   "execution_count": 2,
   "id": "1661315b-2320-4337-ade7-c3d8028552c7",
   "metadata": {},
   "outputs": [],
   "source": [
    "import pickle"
   ]
  },
  {
   "cell_type": "code",
   "execution_count": 3,
   "id": "93ffb678-fe64-4338-9310-d1793eed0ef3",
   "metadata": {},
   "outputs": [
    {
     "name": "stdout",
     "output_type": "stream",
     "text": [
      "preprocessing done\n"
     ]
    }
   ],
   "source": [
    "!python preprocess_data.py --raw_data_path dataset --dest_path ./output"
   ]
  },
  {
   "cell_type": "code",
   "execution_count": 4,
   "id": "6884ad10-cc3f-4cff-b068-ad45c6c6031d",
   "metadata": {},
   "outputs": [
    {
     "name": "stdout",
     "output_type": "stream",
     "text": [
      "Files in output folder: ['dv.pkl', 'test.pkl', 'train.pkl', 'val.pkl']\n",
      "Number of files: 4\n"
     ]
    }
   ],
   "source": [
    "import os\n",
    "\n",
    "output_files = os.listdir(\"./output\")\n",
    "print(\"Files in output folder:\", output_files)\n",
    "print(\"Number of files:\", len(output_files))"
   ]
  },
  {
   "cell_type": "code",
   "execution_count": 5,
   "id": "8934baa9-3789-4ae9-a91b-460a5fd9132c",
   "metadata": {},
   "outputs": [],
   "source": [
    "import pandas as pd"
   ]
  },
  {
   "cell_type": "code",
   "execution_count": 6,
   "id": "a7a112ff-f64b-43a0-b1d3-c07ba0da8b9f",
   "metadata": {},
   "outputs": [],
   "source": [
    "import mlflow"
   ]
  },
  {
   "cell_type": "code",
   "execution_count": 7,
   "id": "96bac960-33b0-4b93-84b0-fa0e9638c05f",
   "metadata": {},
   "outputs": [],
   "source": [
    "import seaborn as sns\n",
    "import matplotlib.pyplot as plt"
   ]
  },
  {
   "cell_type": "code",
   "execution_count": 8,
   "id": "0fe24ed3-0745-429e-90b5-3e598e3726b8",
   "metadata": {
    "scrolled": true
   },
   "outputs": [
    {
     "name": "stdout",
     "output_type": "stream",
     "text": [
      "2025/08/12 08:21:32 WARNING mlflow.utils.autologging_utils: Encountered unexpected error during sklearn autologging: When an mlflow-artifacts URI was supplied, the tracking URI must be a valid http or https URI, but it was currently set to file:///mnt/c/Users/shubham_yadav/Documents/COXA-ENIT/lab/venv/MLOps%20Zoompcamp/mlruns. Perhaps you forgot to set the tracking URI to the running MLflow server. To set the tracking URI, use either of the following methods:\n",
      "1. Set the MLFLOW_TRACKING_URI environment variable to the desired tracking URI. `export MLFLOW_TRACKING_URI=http://localhost:5000`\n",
      "2. Set the tracking URI programmatically by calling `mlflow.set_tracking_uri`. `mlflow.set_tracking_uri('http://localhost:5000')`\n",
      "calculating root mean square error\n"
     ]
    }
   ],
   "source": [
    "!python train.py"
   ]
  },
  {
   "cell_type": "code",
   "execution_count": 8,
   "id": "2f908236-0fad-419c-bf38-1b2f1855f6a1",
   "metadata": {},
   "outputs": [],
   "source": [
    "!lsof -i :5000"
   ]
  },
  {
   "cell_type": "code",
   "execution_count": 12,
   "id": "ad139544-b4d8-45ad-ab49-d34cd9ab0efd",
   "metadata": {},
   "outputs": [
    {
     "name": "stdout",
     "output_type": "stream",
     "text": [
      "UID          PID    PPID  C STIME TTY          TIME CMD\n",
      "syadav     19712   19647  0 06:25 pts/2    00:00:00 /mnt/c/Users/shubham_yadav/D\n"
     ]
    }
   ],
   "source": [
    "!ps -fp 19712"
   ]
  },
  {
   "cell_type": "code",
   "execution_count": 9,
   "id": "965262a3-2aa8-4b1b-b43b-804fce5b3cd9",
   "metadata": {},
   "outputs": [],
   "source": [
    "! systemctl list-units --type=service | grep 5000"
   ]
  },
  {
   "cell_type": "code",
   "execution_count": null,
   "id": "0eb869e1-dba8-4da3-b50b-65e5f0f5efc7",
   "metadata": {},
   "outputs": [],
   "source": [
    "!kill -9 19647"
   ]
  },
  {
   "cell_type": "code",
   "execution_count": 11,
   "id": "9bb75730-2552-4111-a23a-04d0cefdb2ba",
   "metadata": {},
   "outputs": [
    {
     "name": "stdout",
     "output_type": "stream",
     "text": [
      "Collecting gunicorn\n",
      "  Using cached gunicorn-23.0.0-py3-none-any.whl.metadata (4.4 kB)\n",
      "Requirement already satisfied: packaging in /mnt/c/Users/shubham_yadav/Documents/COXA-ENIT/lab/venv/lib/python3.12/site-packages (from gunicorn) (25.0)\n",
      "Using cached gunicorn-23.0.0-py3-none-any.whl (85 kB)\n",
      "Installing collected packages: gunicorn\n",
      "Successfully installed gunicorn-23.0.0\n"
     ]
    }
   ],
   "source": [
    "!pip install gunicorn"
   ]
  },
  {
   "cell_type": "code",
   "execution_count": 12,
   "id": "ecb3032f-789f-436a-8ea3-304763b96458",
   "metadata": {},
   "outputs": [
    {
     "name": "stdout",
     "output_type": "stream",
     "text": [
      "Name: gunicorn\n",
      "Version: 23.0.0\n",
      "Summary: WSGI HTTP Server for UNIX\n",
      "Home-page: \n",
      "Author: \n",
      "Author-email: Benoit Chesneau <benoitc@gunicorn.org>\n",
      "License: MIT\n",
      "Location: /mnt/c/Users/shubham_yadav/Documents/COXA-ENIT/lab/venv/lib/python3.12/site-packages\n",
      "Requires: packaging\n",
      "Required-by: mlflow\n"
     ]
    }
   ],
   "source": [
    "!pip show gunicorn"
   ]
  },
  {
   "cell_type": "code",
   "execution_count": null,
   "id": "28549858-d2a9-4ecb-a182-24fa7c81e4dd",
   "metadata": {},
   "outputs": [
    {
     "name": "stdout",
     "output_type": "stream",
     "text": [
      "2025/08/13 02:57:02 INFO mlflow.store.db.utils: Creating initial MLflow database tables...\n",
      "2025/08/13 02:57:02 INFO mlflow.store.db.utils: Updating database tables\n",
      "INFO  [alembic.runtime.migration] Context impl SQLiteImpl.\n",
      "INFO  [alembic.runtime.migration] Will assume non-transactional DDL.\n",
      "INFO  [alembic.runtime.migration] Context impl SQLiteImpl.\n",
      "INFO  [alembic.runtime.migration] Will assume non-transactional DDL.\n",
      "2025/08/13 02:57:05 INFO mlflow.store.db.utils: Creating initial MLflow database tables...\n",
      "2025/08/13 02:57:05 INFO mlflow.store.db.utils: Updating database tables\n",
      "INFO  [alembic.runtime.migration] Context impl SQLiteImpl.\n",
      "INFO  [alembic.runtime.migration] Will assume non-transactional DDL.\n",
      "[2025-08-13 02:57:07 +0000] [28441] [INFO] Starting gunicorn 23.0.0\n",
      "[2025-08-13 02:57:07 +0000] [28441] [INFO] Listening at: http://0.0.0.0:5000 (28441)\n",
      "[2025-08-13 02:57:07 +0000] [28441] [INFO] Using worker: sync\n",
      "[2025-08-13 02:57:07 +0000] [28443] [INFO] Booting worker with pid: 28443\n",
      "[2025-08-13 02:57:07 +0000] [28444] [INFO] Booting worker with pid: 28444\n",
      "[2025-08-13 02:57:07 +0000] [28445] [INFO] Booting worker with pid: 28445\n",
      "[2025-08-13 02:57:07 +0000] [28446] [INFO] Booting worker with pid: 28446\n"
     ]
    }
   ],
   "source": [
    "!mlflow server --backend-store-uri sqlite:///mlflow.db --default-artifact-root ./artifacts --host 0.0.0.0 --port 5050  --timeout 300 --workers 1 --log-level debug --worker-connections 1000"
   ]
  },
  {
   "cell_type": "code",
   "execution_count": null,
   "id": "edc8425f-3801-4bf7-9817-72b6e2a252ac",
   "metadata": {},
   "outputs": [],
   "source": [
    "!python hpo.py"
   ]
  },
  {
   "cell_type": "code",
   "execution_count": null,
   "id": "bd7eda9e-fb15-41b4-a7a1-c1fc4ee70a5a",
   "metadata": {},
   "outputs": [],
   "source": [
    "!python register_model,py"
   ]
  }
 ],
 "metadata": {
  "kernelspec": {
   "display_name": "Python 3 (ipykernel)",
   "language": "python",
   "name": "python3"
  },
  "language_info": {
   "codemirror_mode": {
    "name": "ipython",
    "version": 3
   },
   "file_extension": ".py",
   "mimetype": "text/x-python",
   "name": "python",
   "nbconvert_exporter": "python",
   "pygments_lexer": "ipython3",
   "version": "3.12.3"
  }
 },
 "nbformat": 4,
 "nbformat_minor": 5
}
