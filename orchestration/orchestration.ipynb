{
 "cells": [
  {
   "cell_type": "code",
   "execution_count": 1,
   "id": "652a8724-54b5-4a1f-9905-cba3f2ee6945",
   "metadata": {},
   "outputs": [
    {
     "name": "stdout",
     "output_type": "stream",
     "text": [
      "Collecting prefect\n",
      "  Downloading prefect-3.4.13-py3-none-any.whl.metadata (13 kB)\n",
      "Collecting aiosqlite<1.0.0,>=0.17.0 (from prefect)\n",
      "  Downloading aiosqlite-0.21.0-py3-none-any.whl.metadata (4.3 kB)\n",
      "Requirement already satisfied: alembic<2.0.0,>=1.7.5 in /mnt/c/Users/shubham_yadav/Documents/COXA-ENIT/lab/venv/lib/python3.12/site-packages (from prefect) (1.16.4)\n",
      "Requirement already satisfied: anyio<5.0.0,>=4.4.0 in /mnt/c/Users/shubham_yadav/Documents/COXA-ENIT/lab/venv/lib/python3.12/site-packages (from prefect) (4.9.0)\n",
      "Collecting apprise<2.0.0,>=1.1.0 (from prefect)\n",
      "  Downloading apprise-1.9.4-py3-none-any.whl.metadata (55 kB)\n",
      "\u001b[2K     \u001b[90m━━━━━━━━━━━━━━━━━━━━━━━━━━━━━━━━━━━━━━━\u001b[0m \u001b[32m55.8/55.8 kB\u001b[0m \u001b[31m222.5 kB/s\u001b[0m eta \u001b[36m0:00:00\u001b[0ma \u001b[36m0:00:01\u001b[0m\n",
      "\u001b[?25hCollecting asgi-lifespan<3.0,>=1.0 (from prefect)\n",
      "  Downloading asgi_lifespan-2.1.0-py3-none-any.whl.metadata (10 kB)\n",
      "Collecting asyncpg<1.0.0,>=0.23 (from prefect)\n",
      "  Downloading asyncpg-0.30.0-cp312-cp312-manylinux_2_17_x86_64.manylinux2014_x86_64.whl.metadata (5.0 kB)\n",
      "Requirement already satisfied: cachetools<7.0,>=5.3 in /mnt/c/Users/shubham_yadav/Documents/COXA-ENIT/lab/venv/lib/python3.12/site-packages (from prefect) (5.5.2)\n",
      "Collecting click<8.2,>=8.0 (from prefect)\n",
      "  Downloading click-8.1.8-py3-none-any.whl.metadata (2.3 kB)\n",
      "Requirement already satisfied: cloudpickle<4.0,>=2.0 in /mnt/c/Users/shubham_yadav/Documents/COXA-ENIT/lab/venv/lib/python3.12/site-packages (from prefect) (3.1.1)\n",
      "Collecting coolname<3.0.0,>=1.0.4 (from prefect)\n",
      "  Downloading coolname-2.2.0-py2.py3-none-any.whl.metadata (6.2 kB)\n",
      "Collecting cryptography>=36.0.1 (from prefect)\n",
      "  Downloading cryptography-45.0.6-cp311-abi3-manylinux_2_34_x86_64.whl.metadata (5.7 kB)\n",
      "Collecting dateparser<2.0.0,>=1.1.1 (from prefect)\n",
      "  Downloading dateparser-1.2.2-py3-none-any.whl.metadata (29 kB)\n",
      "Requirement already satisfied: docker<8.0,>=4.0 in /mnt/c/Users/shubham_yadav/Documents/COXA-ENIT/lab/venv/lib/python3.12/site-packages (from prefect) (7.1.0)\n",
      "Collecting exceptiongroup>=1.0.0 (from prefect)\n",
      "  Downloading exceptiongroup-1.3.0-py3-none-any.whl.metadata (6.7 kB)\n",
      "Requirement already satisfied: fastapi<1.0.0,>=0.111.0 in /mnt/c/Users/shubham_yadav/Documents/COXA-ENIT/lab/venv/lib/python3.12/site-packages (from prefect) (0.116.1)\n",
      "Requirement already satisfied: fsspec>=2022.5.0 in /mnt/c/Users/shubham_yadav/Documents/COXA-ENIT/lab/venv/lib/python3.12/site-packages (from prefect) (2025.7.0)\n",
      "Collecting graphviz>=0.20.1 (from prefect)\n",
      "  Downloading graphviz-0.21-py3-none-any.whl.metadata (12 kB)\n",
      "Collecting griffe<2.0.0,>=0.49.0 (from prefect)\n",
      "  Downloading griffe-1.12.1-py3-none-any.whl.metadata (5.0 kB)\n",
      "Requirement already satisfied: httpcore<2.0.0,>=1.0.5 in /mnt/c/Users/shubham_yadav/Documents/COXA-ENIT/lab/venv/lib/python3.12/site-packages (from prefect) (1.0.9)\n",
      "Requirement already satisfied: httpx!=0.23.2,>=0.23 in /mnt/c/Users/shubham_yadav/Documents/COXA-ENIT/lab/venv/lib/python3.12/site-packages (from httpx[http2]!=0.23.2,>=0.23->prefect) (0.28.1)\n",
      "Collecting humanize<5.0.0,>=4.9.0 (from prefect)\n",
      "  Downloading humanize-4.12.3-py3-none-any.whl.metadata (7.8 kB)\n",
      "Collecting jinja2-humanize-extension>=0.4.0 (from prefect)\n",
      "  Downloading jinja2_humanize_extension-0.4.0-py3-none-any.whl.metadata (3.6 kB)\n",
      "Requirement already satisfied: jinja2<4.0.0,>=3.1.6 in /mnt/c/Users/shubham_yadav/Documents/COXA-ENIT/lab/venv/lib/python3.12/site-packages (from prefect) (3.1.6)\n",
      "Collecting jsonpatch<2.0,>=1.32 (from prefect)\n",
      "  Downloading jsonpatch-1.33-py2.py3-none-any.whl.metadata (3.0 kB)\n",
      "Requirement already satisfied: jsonschema<5.0.0,>=4.18.0 in /mnt/c/Users/shubham_yadav/Documents/COXA-ENIT/lab/venv/lib/python3.12/site-packages (from prefect) (4.25.0)\n",
      "Requirement already satisfied: opentelemetry-api<2.0.0,>=1.27.0 in /mnt/c/Users/shubham_yadav/Documents/COXA-ENIT/lab/venv/lib/python3.12/site-packages (from prefect) (1.36.0)\n",
      "Collecting orjson<4.0,>=3.7 (from prefect)\n",
      "  Downloading orjson-3.11.2-cp312-cp312-manylinux_2_17_x86_64.manylinux2014_x86_64.whl.metadata (1.2 kB)\n",
      "Requirement already satisfied: packaging<25.1,>=21.3 in /mnt/c/Users/shubham_yadav/Documents/COXA-ENIT/lab/venv/lib/python3.12/site-packages (from prefect) (25.0)\n",
      "Collecting pathspec>=0.8.0 (from prefect)\n",
      "  Downloading pathspec-0.12.1-py3-none-any.whl.metadata (21 kB)\n",
      "Collecting pendulum<4,>=3.0.0 (from prefect)\n",
      "  Downloading pendulum-3.1.0-cp312-cp312-manylinux_2_17_x86_64.manylinux2014_x86_64.whl.metadata (6.8 kB)\n",
      "Requirement already satisfied: prometheus-client>=0.20.0 in /mnt/c/Users/shubham_yadav/Documents/COXA-ENIT/lab/venv/lib/python3.12/site-packages (from prefect) (0.22.1)\n",
      "Requirement already satisfied: pydantic!=2.11.0,!=2.11.1,!=2.11.2,!=2.11.3,!=2.11.4,<3.0.0,>=2.10.1 in /mnt/c/Users/shubham_yadav/Documents/COXA-ENIT/lab/venv/lib/python3.12/site-packages (from prefect) (2.11.7)\n",
      "Requirement already satisfied: pydantic-core<3.0.0,>=2.12.0 in /mnt/c/Users/shubham_yadav/Documents/COXA-ENIT/lab/venv/lib/python3.12/site-packages (from prefect) (2.33.2)\n",
      "Collecting pydantic-extra-types<3.0.0,>=2.8.2 (from prefect)\n",
      "  Downloading pydantic_extra_types-2.10.5-py3-none-any.whl.metadata (3.9 kB)\n",
      "Collecting pydantic-settings!=2.9.0,<3.0.0,>2.2.1 (from prefect)\n",
      "  Downloading pydantic_settings-2.10.1-py3-none-any.whl.metadata (3.4 kB)\n",
      "Requirement already satisfied: python-dateutil<3.0.0,>=2.8.2 in /mnt/c/Users/shubham_yadav/Documents/COXA-ENIT/lab/venv/lib/python3.12/site-packages (from prefect) (2.9.0.post0)\n",
      "Collecting python-slugify<9.0,>=5.0 (from prefect)\n",
      "  Downloading python_slugify-8.0.4-py2.py3-none-any.whl.metadata (8.5 kB)\n",
      "Collecting python-socks<3.0,>=2.5.3 (from python-socks[asyncio]<3.0,>=2.5.3->prefect)\n",
      "  Downloading python_socks-2.7.2-py3-none-any.whl.metadata (8.0 kB)\n",
      "Requirement already satisfied: pytz<2026,>=2021.1 in /mnt/c/Users/shubham_yadav/Documents/COXA-ENIT/lab/venv/lib/python3.12/site-packages (from prefect) (2025.2)\n",
      "Requirement already satisfied: pyyaml<7.0.0,>=5.4.1 in /mnt/c/Users/shubham_yadav/Documents/COXA-ENIT/lab/venv/lib/python3.12/site-packages (from prefect) (6.0.2)\n",
      "Collecting readchar<5.0.0,>=4.0.0 (from prefect)\n",
      "  Downloading readchar-4.2.1-py3-none-any.whl.metadata (7.5 kB)\n",
      "Requirement already satisfied: rfc3339-validator<0.2.0,>=0.1.4 in /mnt/c/Users/shubham_yadav/Documents/COXA-ENIT/lab/venv/lib/python3.12/site-packages (from prefect) (0.1.4)\n",
      "Requirement already satisfied: rich<15.0,>=11.0 in /mnt/c/Users/shubham_yadav/Documents/COXA-ENIT/lab/venv/lib/python3.12/site-packages (from prefect) (14.0.0)\n",
      "Collecting ruamel-yaml>=0.17.0 (from prefect)\n",
      "  Downloading ruamel.yaml-0.18.14-py3-none-any.whl.metadata (24 kB)\n",
      "Collecting semver>=3.0.4 (from prefect)\n",
      "  Downloading semver-3.0.4-py3-none-any.whl.metadata (6.8 kB)\n",
      "Requirement already satisfied: sniffio<2.0.0,>=1.3.0 in /mnt/c/Users/shubham_yadav/Documents/COXA-ENIT/lab/venv/lib/python3.12/site-packages (from prefect) (1.3.1)\n",
      "Requirement already satisfied: sqlalchemy<3.0.0,>=2.0 in /mnt/c/Users/shubham_yadav/Documents/COXA-ENIT/lab/venv/lib/python3.12/site-packages (from sqlalchemy[asyncio]<3.0.0,>=2.0->prefect) (2.0.42)\n",
      "Collecting toml>=0.10.0 (from prefect)\n",
      "  Downloading toml-0.10.2-py2.py3-none-any.whl.metadata (7.1 kB)\n",
      "Collecting typer!=0.12.2,<0.17.0,>=0.12.0 (from prefect)\n",
      "  Downloading typer-0.16.0-py3-none-any.whl.metadata (15 kB)\n",
      "Requirement already satisfied: typing-extensions<5.0.0,>=4.10.0 in /mnt/c/Users/shubham_yadav/Documents/COXA-ENIT/lab/venv/lib/python3.12/site-packages (from prefect) (4.14.1)\n",
      "Collecting uv>=0.6.0 (from prefect)\n",
      "  Downloading uv-0.8.11-py3-none-manylinux_2_17_x86_64.manylinux2014_x86_64.whl.metadata (11 kB)\n",
      "Requirement already satisfied: uvicorn!=0.29.0,>=0.14.0 in /mnt/c/Users/shubham_yadav/Documents/COXA-ENIT/lab/venv/lib/python3.12/site-packages (from prefect) (0.35.0)\n",
      "Collecting websockets<16.0,>=13.0 (from prefect)\n",
      "  Downloading websockets-15.0.1-cp312-cp312-manylinux_2_5_x86_64.manylinux1_x86_64.manylinux_2_17_x86_64.manylinux2014_x86_64.whl.metadata (6.8 kB)\n",
      "Requirement already satisfied: Mako in /mnt/c/Users/shubham_yadav/Documents/COXA-ENIT/lab/venv/lib/python3.12/site-packages (from alembic<2.0.0,>=1.7.5->prefect) (1.3.10)\n",
      "Requirement already satisfied: idna>=2.8 in /mnt/c/Users/shubham_yadav/Documents/COXA-ENIT/lab/venv/lib/python3.12/site-packages (from anyio<5.0.0,>=4.4.0->prefect) (3.10)\n",
      "Requirement already satisfied: requests in /mnt/c/Users/shubham_yadav/Documents/COXA-ENIT/lab/venv/lib/python3.12/site-packages (from apprise<2.0.0,>=1.1.0->prefect) (2.32.4)\n",
      "Collecting requests-oauthlib (from apprise<2.0.0,>=1.1.0->prefect)\n",
      "  Downloading requests_oauthlib-2.0.0-py2.py3-none-any.whl.metadata (11 kB)\n",
      "Requirement already satisfied: markdown in /mnt/c/Users/shubham_yadav/Documents/COXA-ENIT/lab/venv/lib/python3.12/site-packages (from apprise<2.0.0,>=1.1.0->prefect) (3.8.2)\n",
      "Requirement already satisfied: certifi in /mnt/c/Users/shubham_yadav/Documents/COXA-ENIT/lab/venv/lib/python3.12/site-packages (from apprise<2.0.0,>=1.1.0->prefect) (2025.7.14)\n",
      "Requirement already satisfied: cffi>=1.14 in /mnt/c/Users/shubham_yadav/Documents/COXA-ENIT/lab/venv/lib/python3.12/site-packages (from cryptography>=36.0.1->prefect) (1.17.1)\n",
      "Collecting regex>=2024.9.11 (from dateparser<2.0.0,>=1.1.1->prefect)\n",
      "  Downloading regex-2025.7.34-cp312-cp312-manylinux2014_x86_64.manylinux_2_17_x86_64.manylinux_2_28_x86_64.whl.metadata (40 kB)\n",
      "\u001b[2K     \u001b[90m━━━━━━━━━━━━━━━━━━━━━━━━━━━━━━━━━━━━━━━\u001b[0m \u001b[32m40.5/40.5 kB\u001b[0m \u001b[31m675.4 kB/s\u001b[0m eta \u001b[36m0:00:00\u001b[0m:--:--\u001b[0m\n",
      "\u001b[?25hCollecting tzlocal>=0.2 (from dateparser<2.0.0,>=1.1.1->prefect)\n",
      "  Downloading tzlocal-5.3.1-py3-none-any.whl.metadata (7.6 kB)\n",
      "Requirement already satisfied: urllib3>=1.26.0 in /mnt/c/Users/shubham_yadav/Documents/COXA-ENIT/lab/venv/lib/python3.12/site-packages (from docker<8.0,>=4.0->prefect) (2.5.0)\n",
      "Requirement already satisfied: starlette<0.48.0,>=0.40.0 in /mnt/c/Users/shubham_yadav/Documents/COXA-ENIT/lab/venv/lib/python3.12/site-packages (from fastapi<1.0.0,>=0.111.0->prefect) (0.47.2)\n",
      "Collecting colorama>=0.4 (from griffe<2.0.0,>=0.49.0->prefect)\n",
      "  Using cached colorama-0.4.6-py2.py3-none-any.whl.metadata (17 kB)\n",
      "Requirement already satisfied: h11>=0.16 in /mnt/c/Users/shubham_yadav/Documents/COXA-ENIT/lab/venv/lib/python3.12/site-packages (from httpcore<2.0.0,>=1.0.5->prefect) (0.16.0)\n",
      "Collecting h2<5,>=3 (from httpx[http2]!=0.23.2,>=0.23->prefect)\n",
      "  Downloading h2-4.2.0-py3-none-any.whl.metadata (5.1 kB)\n",
      "Requirement already satisfied: MarkupSafe>=2.0 in /mnt/c/Users/shubham_yadav/Documents/COXA-ENIT/lab/venv/lib/python3.12/site-packages (from jinja2<4.0.0,>=3.1.6->prefect) (3.0.2)\n",
      "Requirement already satisfied: jsonpointer>=1.9 in /mnt/c/Users/shubham_yadav/Documents/COXA-ENIT/lab/venv/lib/python3.12/site-packages (from jsonpatch<2.0,>=1.32->prefect) (3.0.0)\n",
      "Requirement already satisfied: attrs>=22.2.0 in /mnt/c/Users/shubham_yadav/Documents/COXA-ENIT/lab/venv/lib/python3.12/site-packages (from jsonschema<5.0.0,>=4.18.0->prefect) (25.3.0)\n",
      "Requirement already satisfied: jsonschema-specifications>=2023.03.6 in /mnt/c/Users/shubham_yadav/Documents/COXA-ENIT/lab/venv/lib/python3.12/site-packages (from jsonschema<5.0.0,>=4.18.0->prefect) (2025.4.1)\n",
      "Requirement already satisfied: referencing>=0.28.4 in /mnt/c/Users/shubham_yadav/Documents/COXA-ENIT/lab/venv/lib/python3.12/site-packages (from jsonschema<5.0.0,>=4.18.0->prefect) (0.36.2)\n",
      "Requirement already satisfied: rpds-py>=0.7.1 in /mnt/c/Users/shubham_yadav/Documents/COXA-ENIT/lab/venv/lib/python3.12/site-packages (from jsonschema<5.0.0,>=4.18.0->prefect) (0.26.0)\n",
      "Requirement already satisfied: importlib-metadata<8.8.0,>=6.0 in /mnt/c/Users/shubham_yadav/Documents/COXA-ENIT/lab/venv/lib/python3.12/site-packages (from opentelemetry-api<2.0.0,>=1.27.0->prefect) (8.7.0)\n",
      "Requirement already satisfied: tzdata>=2020.1 in /mnt/c/Users/shubham_yadav/Documents/COXA-ENIT/lab/venv/lib/python3.12/site-packages (from pendulum<4,>=3.0.0->prefect) (2025.2)\n",
      "Requirement already satisfied: annotated-types>=0.6.0 in /mnt/c/Users/shubham_yadav/Documents/COXA-ENIT/lab/venv/lib/python3.12/site-packages (from pydantic!=2.11.0,!=2.11.1,!=2.11.2,!=2.11.3,!=2.11.4,<3.0.0,>=2.10.1->prefect) (0.7.0)\n",
      "Requirement already satisfied: typing-inspection>=0.4.0 in /mnt/c/Users/shubham_yadav/Documents/COXA-ENIT/lab/venv/lib/python3.12/site-packages (from pydantic!=2.11.0,!=2.11.1,!=2.11.2,!=2.11.3,!=2.11.4,<3.0.0,>=2.10.1->prefect) (0.4.1)\n",
      "Collecting python-dotenv>=0.21.0 (from pydantic-settings!=2.9.0,<3.0.0,>2.2.1->prefect)\n",
      "  Using cached python_dotenv-1.1.1-py3-none-any.whl.metadata (24 kB)\n",
      "Requirement already satisfied: six>=1.5 in /mnt/c/Users/shubham_yadav/Documents/COXA-ENIT/lab/venv/lib/python3.12/site-packages (from python-dateutil<3.0.0,>=2.8.2->prefect) (1.17.0)\n",
      "Collecting text-unidecode>=1.3 (from python-slugify<9.0,>=5.0->prefect)\n",
      "  Downloading text_unidecode-1.3-py2.py3-none-any.whl.metadata (2.4 kB)\n",
      "Requirement already satisfied: markdown-it-py>=2.2.0 in /mnt/c/Users/shubham_yadav/Documents/COXA-ENIT/lab/venv/lib/python3.12/site-packages (from rich<15.0,>=11.0->prefect) (3.0.0)\n",
      "Requirement already satisfied: pygments<3.0.0,>=2.13.0 in /mnt/c/Users/shubham_yadav/Documents/COXA-ENIT/lab/venv/lib/python3.12/site-packages (from rich<15.0,>=11.0->prefect) (2.19.2)\n",
      "Collecting ruamel.yaml.clib>=0.2.7 (from ruamel-yaml>=0.17.0->prefect)\n",
      "  Downloading ruamel.yaml.clib-0.2.12-cp312-cp312-manylinux_2_17_x86_64.manylinux2014_x86_64.whl.metadata (2.7 kB)\n",
      "Requirement already satisfied: greenlet>=1 in /mnt/c/Users/shubham_yadav/Documents/COXA-ENIT/lab/venv/lib/python3.12/site-packages (from sqlalchemy<3.0.0,>=2.0->sqlalchemy[asyncio]<3.0.0,>=2.0->prefect) (3.2.4)\n",
      "Collecting shellingham>=1.3.0 (from typer!=0.12.2,<0.17.0,>=0.12.0->prefect)\n",
      "  Downloading shellingham-1.5.4-py2.py3-none-any.whl.metadata (3.5 kB)\n",
      "Requirement already satisfied: pycparser in /mnt/c/Users/shubham_yadav/Documents/COXA-ENIT/lab/venv/lib/python3.12/site-packages (from cffi>=1.14->cryptography>=36.0.1->prefect) (2.22)\n",
      "Collecting hyperframe<7,>=6.1 (from h2<5,>=3->httpx[http2]!=0.23.2,>=0.23->prefect)\n",
      "  Downloading hyperframe-6.1.0-py3-none-any.whl.metadata (4.3 kB)\n",
      "Collecting hpack<5,>=4.1 (from h2<5,>=3->httpx[http2]!=0.23.2,>=0.23->prefect)\n",
      "  Downloading hpack-4.1.0-py3-none-any.whl.metadata (4.6 kB)\n",
      "Requirement already satisfied: zipp>=3.20 in /mnt/c/Users/shubham_yadav/Documents/COXA-ENIT/lab/venv/lib/python3.12/site-packages (from importlib-metadata<8.8.0,>=6.0->opentelemetry-api<2.0.0,>=1.27.0->prefect) (3.23.0)\n",
      "Requirement already satisfied: mdurl~=0.1 in /mnt/c/Users/shubham_yadav/Documents/COXA-ENIT/lab/venv/lib/python3.12/site-packages (from markdown-it-py>=2.2.0->rich<15.0,>=11.0->prefect) (0.1.2)\n",
      "Requirement already satisfied: charset_normalizer<4,>=2 in /mnt/c/Users/shubham_yadav/Documents/COXA-ENIT/lab/venv/lib/python3.12/site-packages (from requests->apprise<2.0.0,>=1.1.0->prefect) (3.4.2)\n",
      "Collecting oauthlib>=3.0.0 (from requests-oauthlib->apprise<2.0.0,>=1.1.0->prefect)\n",
      "  Downloading oauthlib-3.3.1-py3-none-any.whl.metadata (7.9 kB)\n",
      "Downloading prefect-3.4.13-py3-none-any.whl (6.1 MB)\n",
      "\u001b[2K   \u001b[90m━━━━━━━━━━━━━━━━━━━━━━━━━━━━━━━━━━━━━━━━\u001b[0m \u001b[32m6.1/6.1 MB\u001b[0m \u001b[31m4.1 MB/s\u001b[0m eta \u001b[36m0:00:00\u001b[0m00:01\u001b[0m00:01\u001b[0m0m\n",
      "\u001b[?25hDownloading aiosqlite-0.21.0-py3-none-any.whl (15 kB)\n",
      "Downloading apprise-1.9.4-py3-none-any.whl (1.4 MB)\n",
      "\u001b[2K   \u001b[90m━━━━━━━━━━━━━━━━━━━━━━━━━━━━━━━━━━━━━━━━\u001b[0m \u001b[32m1.4/1.4 MB\u001b[0m \u001b[31m10.7 MB/s\u001b[0m eta \u001b[36m0:00:00\u001b[0m00:01\u001b[0m00:01\u001b[0m\n",
      "\u001b[?25hDownloading asgi_lifespan-2.1.0-py3-none-any.whl (10 kB)\n",
      "Downloading asyncpg-0.30.0-cp312-cp312-manylinux_2_17_x86_64.manylinux2014_x86_64.whl (3.6 MB)\n",
      "\u001b[2K   \u001b[90m━━━━━━━━━━━━━━━━━━━━━━━━━━━━━━━━━━━━━━━━\u001b[0m \u001b[32m3.6/3.6 MB\u001b[0m \u001b[31m9.9 MB/s\u001b[0m eta \u001b[36m0:00:00\u001b[0m:00:01\u001b[0m00:01\u001b[0m\n",
      "\u001b[?25hDownloading click-8.1.8-py3-none-any.whl (98 kB)\n",
      "\u001b[2K   \u001b[90m━━━━━━━━━━━━━━━━━━━━━━━━━━━━━━━━━━━━━━━━\u001b[0m \u001b[32m98.2/98.2 kB\u001b[0m \u001b[31m3.9 MB/s\u001b[0m eta \u001b[36m0:00:00\u001b[0m\n",
      "\u001b[?25hDownloading coolname-2.2.0-py2.py3-none-any.whl (37 kB)\n",
      "Downloading cryptography-45.0.6-cp311-abi3-manylinux_2_34_x86_64.whl (4.5 MB)\n",
      "\u001b[2K   \u001b[90m━━━━━━━━━━━━━━━━━━━━━━━━━━━━━━━━━━━━━━━━\u001b[0m \u001b[32m4.5/4.5 MB\u001b[0m \u001b[31m5.9 MB/s\u001b[0m eta \u001b[36m0:00:00\u001b[0m00:01\u001b[0m00:01\u001b[0mm\n",
      "\u001b[?25hDownloading dateparser-1.2.2-py3-none-any.whl (315 kB)\n",
      "\u001b[2K   \u001b[90m━━━━━━━━━━━━━━━━━━━━━━━━━━━━━━━━━━━━━━━━\u001b[0m \u001b[32m315.5/315.5 kB\u001b[0m \u001b[31m9.4 MB/s\u001b[0m eta \u001b[36m0:00:00\u001b[0m\n",
      "\u001b[?25hDownloading exceptiongroup-1.3.0-py3-none-any.whl (16 kB)\n",
      "Downloading graphviz-0.21-py3-none-any.whl (47 kB)\n",
      "\u001b[2K   \u001b[90m━━━━━━━━━━━━━━━━━━━━━━━━━━━━━━━━━━━━━━━━\u001b[0m \u001b[32m47.3/47.3 kB\u001b[0m \u001b[31m2.5 MB/s\u001b[0m eta \u001b[36m0:00:00\u001b[0m\n",
      "\u001b[?25hDownloading griffe-1.12.1-py3-none-any.whl (138 kB)\n",
      "\u001b[2K   \u001b[90m━━━━━━━━━━━━━━━━━━━━━━━━━━━━━━━━━━━━━━━━\u001b[0m \u001b[32m138.9/138.9 kB\u001b[0m \u001b[31m2.4 MB/s\u001b[0m eta \u001b[36m0:00:00\u001b[0ma \u001b[36m0:00:01\u001b[0m\n",
      "\u001b[?25hDownloading humanize-4.12.3-py3-none-any.whl (128 kB)\n",
      "\u001b[2K   \u001b[90m━━━━━━━━━━━━━━━━━━━━━━━━━━━━━━━━━━━━━━━━\u001b[0m \u001b[32m128.5/128.5 kB\u001b[0m \u001b[31m4.4 MB/s\u001b[0m eta \u001b[36m0:00:00\u001b[0m\n",
      "\u001b[?25hDownloading jinja2_humanize_extension-0.4.0-py3-none-any.whl (4.8 kB)\n",
      "Downloading jsonpatch-1.33-py2.py3-none-any.whl (12 kB)\n",
      "Downloading orjson-3.11.2-cp312-cp312-manylinux_2_17_x86_64.manylinux2014_x86_64.whl (121 kB)\n",
      "\u001b[2K   \u001b[90m━━━━━━━━━━━━━━━━━━━━━━━━━━━━━━━━━━━━━━━━\u001b[0m \u001b[32m121.2/121.2 kB\u001b[0m \u001b[31m1.3 MB/s\u001b[0m eta \u001b[36m0:00:00\u001b[0m \u001b[36m0:00:01\u001b[0mm\n",
      "\u001b[?25hDownloading pathspec-0.12.1-py3-none-any.whl (31 kB)\n",
      "Downloading pendulum-3.1.0-cp312-cp312-manylinux_2_17_x86_64.manylinux2014_x86_64.whl (351 kB)\n",
      "\u001b[2K   \u001b[90m━━━━━━━━━━━━━━━━━━━━━━━━━━━━━━━━━━━━━━━━\u001b[0m \u001b[32m351.2/351.2 kB\u001b[0m \u001b[31m8.6 MB/s\u001b[0m eta \u001b[36m0:00:00\u001b[0m:00:01\u001b[0m\n",
      "\u001b[?25hDownloading pydantic_extra_types-2.10.5-py3-none-any.whl (38 kB)\n",
      "Downloading pydantic_settings-2.10.1-py3-none-any.whl (45 kB)\n",
      "\u001b[2K   \u001b[90m━━━━━━━━━━━━━━━━━━━━━━━━━━━━━━━━━━━━━━━━\u001b[0m \u001b[32m45.2/45.2 kB\u001b[0m \u001b[31m4.4 MB/s\u001b[0m eta \u001b[36m0:00:00\u001b[0m\n",
      "\u001b[?25hDownloading python_slugify-8.0.4-py2.py3-none-any.whl (10 kB)\n",
      "Downloading python_socks-2.7.2-py3-none-any.whl (55 kB)\n",
      "\u001b[2K   \u001b[90m━━━━━━━━━━━━━━━━━━━━━━━━━━━━━━━━━━━━━━━━\u001b[0m \u001b[32m55.0/55.0 kB\u001b[0m \u001b[31m2.4 MB/s\u001b[0m eta \u001b[36m0:00:00\u001b[0m\n",
      "\u001b[?25hDownloading readchar-4.2.1-py3-none-any.whl (9.3 kB)\n",
      "Downloading ruamel.yaml-0.18.14-py3-none-any.whl (118 kB)\n",
      "\u001b[2K   \u001b[90m━━━━━━━━━━━━━━━━━━━━━━━━━━━━━━━━━━━━━━━━\u001b[0m \u001b[32m118.6/118.6 kB\u001b[0m \u001b[31m9.7 MB/s\u001b[0m eta \u001b[36m0:00:00\u001b[0ma \u001b[36m0:00:01\u001b[0m\n",
      "\u001b[?25hDownloading semver-3.0.4-py3-none-any.whl (17 kB)\n",
      "Downloading toml-0.10.2-py2.py3-none-any.whl (16 kB)\n",
      "Downloading typer-0.16.0-py3-none-any.whl (46 kB)\n",
      "\u001b[2K   \u001b[90m━━━━━━━━━━━━━━━━━━━━━━━━━━━━━━━━━━━━━━━━\u001b[0m \u001b[32m46.3/46.3 kB\u001b[0m \u001b[31m5.0 MB/s\u001b[0m eta \u001b[36m0:00:00\u001b[0m\n",
      "\u001b[?25hDownloading uv-0.8.11-py3-none-manylinux_2_17_x86_64.manylinux2014_x86_64.whl (19.3 MB)\n",
      "\u001b[2K   \u001b[90m━━━━━━━━━━━━━━━━━━━━━━━━━━━━━━━━━━━━━━━━\u001b[0m \u001b[32m19.3/19.3 MB\u001b[0m \u001b[31m3.3 MB/s\u001b[0m eta \u001b[36m0:00:00\u001b[0m00:01\u001b[0m00:01\u001b[0m\n",
      "\u001b[?25hDownloading websockets-15.0.1-cp312-cp312-manylinux_2_5_x86_64.manylinux1_x86_64.manylinux_2_17_x86_64.manylinux2014_x86_64.whl (182 kB)\n",
      "\u001b[2K   \u001b[90m━━━━━━━━━━━━━━━━━━━━━━━━━━━━━━━━━━━━━━━━\u001b[0m \u001b[32m182.5/182.5 kB\u001b[0m \u001b[31m3.2 MB/s\u001b[0m eta \u001b[36m0:00:00\u001b[0ma \u001b[36m0:00:01\u001b[0m\n",
      "\u001b[?25hUsing cached colorama-0.4.6-py2.py3-none-any.whl (25 kB)\n",
      "Downloading h2-4.2.0-py3-none-any.whl (60 kB)\n",
      "\u001b[2K   \u001b[90m━━━━━━━━━━━━━━━━━━━━━━━━━━━━━━━━━━━━━━━━\u001b[0m \u001b[32m61.0/61.0 kB\u001b[0m \u001b[31m2.7 MB/s\u001b[0m eta \u001b[36m0:00:00\u001b[0m\n",
      "\u001b[?25hDownloading python_dotenv-1.1.1-py3-none-any.whl (20 kB)\n",
      "Downloading regex-2025.7.34-cp312-cp312-manylinux2014_x86_64.manylinux_2_17_x86_64.manylinux_2_28_x86_64.whl (801 kB)\n",
      "\u001b[2K   \u001b[90m━━━━━━━━━━━━━━━━━━━━━━━━━━━━━━━━━━━━━━━━\u001b[0m \u001b[32m801.9/801.9 kB\u001b[0m \u001b[31m2.9 MB/s\u001b[0m eta \u001b[36m0:00:00\u001b[0ma \u001b[36m0:00:01\u001b[0m\n",
      "\u001b[?25hDownloading ruamel.yaml.clib-0.2.12-cp312-cp312-manylinux_2_17_x86_64.manylinux2014_x86_64.whl (754 kB)\n",
      "\u001b[2K   \u001b[90m━━━━━━━━━━━━━━━━━━━━━━━━━━━━━━━━━━━━━━━━\u001b[0m \u001b[32m754.1/754.1 kB\u001b[0m \u001b[31m2.9 MB/s\u001b[0m eta \u001b[36m0:00:00\u001b[0ma \u001b[36m0:00:01\u001b[0m\n",
      "\u001b[?25hDownloading shellingham-1.5.4-py2.py3-none-any.whl (9.8 kB)\n",
      "Downloading text_unidecode-1.3-py2.py3-none-any.whl (78 kB)\n",
      "\u001b[2K   \u001b[90m━━━━━━━━━━━━━━━━━━━━━━━━━━━━━━━━━━━━━━━━\u001b[0m \u001b[32m78.2/78.2 kB\u001b[0m \u001b[31m2.0 MB/s\u001b[0m eta \u001b[36m0:00:00\u001b[0ma \u001b[36m0:00:01\u001b[0m\n",
      "\u001b[?25hDownloading tzlocal-5.3.1-py3-none-any.whl (18 kB)\n",
      "Downloading requests_oauthlib-2.0.0-py2.py3-none-any.whl (24 kB)\n",
      "Downloading hpack-4.1.0-py3-none-any.whl (34 kB)\n",
      "Downloading hyperframe-6.1.0-py3-none-any.whl (13 kB)\n",
      "Downloading oauthlib-3.3.1-py3-none-any.whl (160 kB)\n",
      "\u001b[2K   \u001b[90m━━━━━━━━━━━━━━━━━━━━━━━━━━━━━━━━━━━━━━━━\u001b[0m \u001b[32m160.1/160.1 kB\u001b[0m \u001b[31m3.6 MB/s\u001b[0m eta \u001b[36m0:00:00\u001b[0ma \u001b[36m0:00:01\u001b[0m\n",
      "\u001b[?25hInstalling collected packages: text-unidecode, coolname, websockets, uv, tzlocal, toml, shellingham, semver, ruamel.yaml.clib, regex, readchar, python-socks, python-slugify, python-dotenv, pathspec, orjson, oauthlib, jsonpatch, hyperframe, humanize, hpack, graphviz, exceptiongroup, colorama, click, asyncpg, asgi-lifespan, aiosqlite, ruamel-yaml, requests-oauthlib, pendulum, jinja2-humanize-extension, h2, griffe, dateparser, cryptography, typer, pydantic-settings, pydantic-extra-types, apprise, prefect\n",
      "  Attempting uninstall: click\n",
      "    Found existing installation: click 8.2.1\n",
      "    Uninstalling click-8.2.1:\n",
      "      Successfully uninstalled click-8.2.1\n",
      "Successfully installed aiosqlite-0.21.0 apprise-1.9.4 asgi-lifespan-2.1.0 asyncpg-0.30.0 click-8.1.8 colorama-0.4.6 coolname-2.2.0 cryptography-45.0.6 dateparser-1.2.2 exceptiongroup-1.3.0 graphviz-0.21 griffe-1.12.1 h2-4.2.0 hpack-4.1.0 humanize-4.12.3 hyperframe-6.1.0 jinja2-humanize-extension-0.4.0 jsonpatch-1.33 oauthlib-3.3.1 orjson-3.11.2 pathspec-0.12.1 pendulum-3.1.0 prefect-3.4.13 pydantic-extra-types-2.10.5 pydantic-settings-2.10.1 python-dotenv-1.1.1 python-slugify-8.0.4 python-socks-2.7.2 readchar-4.2.1 regex-2025.7.34 requests-oauthlib-2.0.0 ruamel-yaml-0.18.14 ruamel.yaml.clib-0.2.12 semver-3.0.4 shellingham-1.5.4 text-unidecode-1.3 toml-0.10.2 typer-0.16.0 tzlocal-5.3.1 uv-0.8.11 websockets-15.0.1\n"
     ]
    }
   ],
   "source": [
    "!pip install prefect"
   ]
  },
  {
   "cell_type": "code",
   "execution_count": 2,
   "id": "668ba23d-9ce7-429f-a7fc-78483cb07672",
   "metadata": {},
   "outputs": [
    {
     "name": "stdout",
     "output_type": "stream",
     "text": [
      "Version:             3.4.13\n",
      "API version:         0.8.4\n",
      "Python version:      3.12.3\n",
      "Git commit:          2b0ea9be\n",
      "Built:               Thu, Aug 14, 2025 09:07 PM\n",
      "OS/Arch:             linux/x86_64\n",
      "Profile:             ephemeral\n",
      "Server type:         ephemeral\n",
      "Pydantic version:    2.11.7\n",
      "Server:\n",
      "  Database:          sqlite\n",
      "  SQLite version:    3.45.1\n"
     ]
    }
   ],
   "source": [
    "!prefect version"
   ]
  },
  {
   "cell_type": "code",
   "execution_count": 9,
   "id": "325696ca-db48-4572-931f-18d301441494",
   "metadata": {},
   "outputs": [],
   "source": [
    "import pandas as pd\n",
    "import numpy as np\n",
    "import mlflow\n",
    "import mlflow.sklearn\n",
    "from sklearn.feature_extraction import DictVectorizer\n",
    "from sklearn.linear_model import LinearRegression\n",
    "from sklearn.metrics import mean_squared_error\n",
    "import os"
   ]
  },
  {
   "cell_type": "code",
   "execution_count": 10,
   "id": "fde63746-ea5f-41ca-8331-59dd353ea922",
   "metadata": {},
   "outputs": [
    {
     "name": "stdout",
     "output_type": "stream",
     "text": [
      "Loaded 3,403,766 records\n"
     ]
    }
   ],
   "source": [
    "# Load the parquet file\n",
    "url = \"https://d37ci6vzurychx.cloudfront.net/trip-data/yellow_tripdata_2023-03.parquet\"\n",
    "df = pd.read_parquet(url)\n",
    "\n",
    "print(f\"Loaded {len(df):,} records\")"
   ]
  },
  {
   "cell_type": "code",
   "execution_count": 18,
   "id": "ee01b9b8-2fea-4990-b367-35c416f2df97",
   "metadata": {},
   "outputs": [
    {
     "name": "stdout",
     "output_type": "stream",
     "text": [
      "Data after preparation: 3,316,216 rows\n"
     ]
    }
   ],
   "source": [
    "def prepare_data(df):\n",
    "    df['duration'] = df.tpep_dropoff_datetime - df.tpep_pickup_datetime\n",
    "    df['duration'] = df['duration'].dt.total_seconds() / 60\n",
    "    \n",
    "    df = df[(df['duration'] >= 1) & (df['duration'] <= 60)].copy() \n",
    "\n",
    "    categorical = ['PULocationID', 'DOLocationID']\n",
    "    df[categorical] = df[categorical].astype(str)\n",
    "\n",
    "    return df\n",
    "\n",
    "# 👇 Assign df_clean BEFORE printing\n",
    "df_clean = prepare_data(df).copy()\n",
    "print(f\"Data after preparation: {len(df_clean):,} rows\")"
   ]
  },
  {
   "cell_type": "code",
   "execution_count": 12,
   "id": "bb2f1cc8-ba69-4ac2-b176-354553d0cf7a",
   "metadata": {},
   "outputs": [],
   "source": [
    "## Feature Engineering and Split"
   ]
  },
  {
   "cell_type": "code",
   "execution_count": 32,
   "id": "10d38d98-2a89-48ac-aaeb-5a0ec05eeac0",
   "metadata": {},
   "outputs": [],
   "source": [
    "from sklearn.model_selection import train_test_split\n",
    "\n",
    "categorical = ['PULocationID', 'DOLocationID']\n",
    "df_clean['target'] = df_clean['duration']\n",
    "\n",
    "train_df, val_df = train_test_split(df_clean, test_size=0.2, random_state=42)\n",
    "\n",
    "def df_to_dict(df):\n",
    "    return df[categorical].to_dict(orient='records')\n",
    "\n",
    "X_train_dict = df_to_dict(train_df)\n",
    "X_val_dict = df_to_dict(val_df)\n",
    "\n",
    "dv = DictVectorizer()\n",
    "X_train = dv.fit_transform(X_train_dict)\n",
    "X_val = dv.transform(X_val_dict)\n",
    "\n",
    "y_train = train_df['target'].values\n",
    "y_val = val_df['target'].values"
   ]
  },
  {
   "cell_type": "code",
   "execution_count": 14,
   "id": "42a7186c-400a-45d8-a20c-c890fe969719",
   "metadata": {},
   "outputs": [],
   "source": [
    "## Train Model and Log Flow with mlflow"
   ]
  },
  {
   "cell_type": "code",
   "execution_count": 41,
   "id": "eb50773f-64ef-4131-b261-4a2daa439251",
   "metadata": {},
   "outputs": [
    {
     "name": "stdout",
     "output_type": "stream",
     "text": [
      "COMMAND  PID   USER   FD   TYPE DEVICE SIZE/OFF NODE NAME\n",
      "python3 7624 syadav    5u  IPv4 344440      0t0  TCP localhost:5000 (LISTEN)\n",
      "python3 7625 syadav    5u  IPv4 344440      0t0  TCP localhost:5000 (LISTEN)\n",
      "python3 7625 syadav    9u  IPv4 344509      0t0  TCP localhost:5000->localhost:48430 (CLOSE_WAIT)\n",
      "python3 7627 syadav    5u  IPv4 344440      0t0  TCP localhost:5000 (LISTEN)\n",
      "python3 7628 syadav    5u  IPv4 344440      0t0  TCP localhost:5000 (LISTEN)\n",
      "python3 7941 syadav    5u  IPv4 344440      0t0  TCP localhost:5000 (LISTEN)\n"
     ]
    }
   ],
   "source": [
    "!lsof -i :5000"
   ]
  },
  {
   "cell_type": "code",
   "execution_count": 40,
   "id": "cb90dd83-e126-4499-a9dc-10eb1abd4083",
   "metadata": {},
   "outputs": [
    {
     "name": "stdout",
     "output_type": "stream",
     "text": [
      "✅ RMSE: 8.15\n",
      "✅ Intercept: 24.75\n"
     ]
    }
   ],
   "source": [
    "import mlflow\n",
    "from sklearn.linear_model import LinearRegression\n",
    "from sklearn.metrics import mean_squared_error\n",
    "import numpy as np\n",
    "from mlflow.models.signature import infer_signature\n",
    "\n",
    "mlflow.set_tracking_uri(\"sqlite:///mlflow.db.hw3\")\n",
    "mlflow.set_experiment(\"hw3-orchestration-nyc-taxi\")\n",
    "\n",
    "# End the current active run if exists\n",
    "if mlflow.active_run() is not None:\n",
    "    mlflow.end_run()  # End the existing active run\n",
    "\n",
    "with mlflow.start_run():\n",
    "    lr = LinearRegression()\n",
    "    lr.fit(X_train, y_train)\n",
    "\n",
    "    y_pred = lr.predict(X_val)\n",
    "    mse = mean_squared_error(y_val, y_pred)\n",
    "    rmse = np.sqrt(mse)\n",
    "\n",
    "    mlflow.log_param(\"model_type\", \"LinearRegression\")\n",
    "    mlflow.log_metric(\"rmse\", rmse)\n",
    "\n",
    "    signature = infer_signature(X_val, y_pred)\n",
    "    input_example = X_val[:1]\n",
    "\n",
    "    mlflow.sklearn.log_model(\n",
    "        sk_model=lr,\n",
    "        name=\"models\",\n",
    "        signature=signature,\n",
    "        input_example=input_example\n",
    "    )\n",
    "\n",
    "    print(f\"✅ RMSE: {rmse:.2f}\")\n",
    "    print(f\"✅ Intercept: {lr.intercept_:.2f}\")"
   ]
  },
  {
   "cell_type": "code",
   "execution_count": 25,
   "id": "db296a99-e938-4cae-860d-0110975205b7",
   "metadata": {},
   "outputs": [],
   "source": [
    "## Save DictVectorizer and Register the Model"
   ]
  },
  {
   "cell_type": "code",
   "execution_count": 35,
   "id": "59da3f1f-4c50-4dc2-9719-5a68e0b53eec",
   "metadata": {},
   "outputs": [
    {
     "name": "stdout",
     "output_type": "stream",
     "text": [
      "✅ DictVectorizer saved and logged.\n"
     ]
    }
   ],
   "source": [
    "import pickle\n",
    "import pathlib\n",
    "\n",
    "output_dir = pathlib.Path(\"artifacts-hw3\")\n",
    "output_dir.mkdir(exist_ok=True)\n",
    "\n",
    "# Save dict vectorizer\n",
    "with open(output_dir / \"dv.pkl\", \"wb\") as f_out:\n",
    "    pickle.dump(dv, f_out)\n",
    "\n",
    "mlflow.log_artifact(str(output_dir / \"dv.pkl\"))\n",
    "\n",
    "print(\"✅ DictVectorizer saved and logged.\")"
   ]
  },
  {
   "cell_type": "code",
   "execution_count": 27,
   "id": "50c4a37e-1ae0-4c68-8c45-544aea875a0f",
   "metadata": {},
   "outputs": [],
   "source": [
    "## Find model size in MLmodel"
   ]
  },
  {
   "cell_type": "code",
   "execution_count": 36,
   "id": "9bf33546-bdae-412c-9783-3c1c27b5f534",
   "metadata": {},
   "outputs": [
    {
     "name": "stdout",
     "output_type": "stream",
     "text": [
      "✅ Found MLmodel at: mlruns/1/models/m-78f95097bf23458296c6ac7f0cd0f42f/artifacts/MLmodel\n",
      "✅ Found MLmodel at: mlruns/1/models/m-e7dcf5b6d8d44d94859afb0929399402/artifacts/MLmodel\n"
     ]
    }
   ],
   "source": [
    "import os\n",
    "\n",
    "mlflow_dir = \"mlruns\"\n",
    "for root, dirs, files in os.walk(mlflow_dir):\n",
    "    for file in files:\n",
    "        if file == \"MLmodel\":\n",
    "            full_path = os.path.join(root, file)\n",
    "            print(\"✅ Found MLmodel at:\", full_path)"
   ]
  },
  {
   "cell_type": "code",
   "execution_count": 37,
   "id": "81271c04-254a-4245-8e08-5677c2039c0c",
   "metadata": {},
   "outputs": [
    {
     "name": "stdout",
     "output_type": "stream",
     "text": [
      "✅ Final Answers Summary\n",
      "- Records loaded: 3,403,766\n",
      "- Records after prep: 3,316,216\n",
      "- Intercept: 24.75\n",
      "- RMSE: 8.15\n"
     ]
    }
   ],
   "source": [
    "print(f\"✅ Final Answers Summary\")\n",
    "print(f\"- Records loaded: {len(df):,}\")\n",
    "print(f\"- Records after prep: {len(df_clean):,}\")\n",
    "print(f\"- Intercept: {lr.intercept_:.2f}\")\n",
    "print(f\"- RMSE: {rmse:.2f}\")"
   ]
  },
  {
   "cell_type": "code",
   "execution_count": 31,
   "id": "8526f957-6825-4ac2-a0e1-30e0201a2efa",
   "metadata": {},
   "outputs": [
    {
     "name": "stdout",
     "output_type": "stream",
     "text": [
      "Artifact URI: /mnt/c/Users/shubham_yadav/Documents/COXA-ENIT/lab/venv/MLOps Zoompcamp/mlruns/1/a94fdf70dc85499e9d2d55f0ec85671c/artifacts/models\n",
      "MLmodel file path: mlruns\n"
     ]
    },
    {
     "ename": "IsADirectoryError",
     "evalue": "[Errno 21] Is a directory: 'mlruns'",
     "output_type": "error",
     "traceback": [
      "\u001b[31m---------------------------------------------------------------------------\u001b[39m",
      "\u001b[31mIsADirectoryError\u001b[39m                         Traceback (most recent call last)",
      "\u001b[36mCell\u001b[39m\u001b[36m \u001b[39m\u001b[32mIn[31]\u001b[39m\u001b[32m, line 29\u001b[39m\n\u001b[32m     26\u001b[39m \u001b[38;5;28mprint\u001b[39m(\u001b[33mf\u001b[39m\u001b[33m\"\u001b[39m\u001b[33mMLmodel file path: \u001b[39m\u001b[38;5;132;01m{\u001b[39;00mmlmodel_path\u001b[38;5;132;01m}\u001b[39;00m\u001b[33m\"\u001b[39m)\n\u001b[32m     28\u001b[39m \u001b[38;5;66;03m# Load and read the MLmodel file to inspect the metadata\u001b[39;00m\n\u001b[32m---> \u001b[39m\u001b[32m29\u001b[39m \u001b[38;5;28;01mwith\u001b[39;00m \u001b[38;5;28;43mopen\u001b[39;49m\u001b[43m(\u001b[49m\u001b[43mmlmodel_path\u001b[49m\u001b[43m,\u001b[49m\u001b[43m \u001b[49m\u001b[33;43m\"\u001b[39;49m\u001b[33;43mr\u001b[39;49m\u001b[33;43m\"\u001b[39;49m\u001b[43m)\u001b[49m \u001b[38;5;28;01mas\u001b[39;00m f:\n\u001b[32m     30\u001b[39m     mlmodel_content = f.read()\n\u001b[32m     31\u001b[39m \u001b[38;5;28mprint\u001b[39m(\u001b[33m\"\u001b[39m\u001b[33mMLmodel Content:\u001b[39m\u001b[33m\"\u001b[39m)\n",
      "\u001b[36mFile \u001b[39m\u001b[32m/mnt/c/Users/shubham_yadav/Documents/COXA-ENIT/lab/venv/lib/python3.12/site-packages/IPython/core/interactiveshell.py:343\u001b[39m, in \u001b[36m_modified_open\u001b[39m\u001b[34m(file, *args, **kwargs)\u001b[39m\n\u001b[32m    336\u001b[39m \u001b[38;5;28;01mif\u001b[39;00m file \u001b[38;5;129;01min\u001b[39;00m {\u001b[32m0\u001b[39m, \u001b[32m1\u001b[39m, \u001b[32m2\u001b[39m}:\n\u001b[32m    337\u001b[39m     \u001b[38;5;28;01mraise\u001b[39;00m \u001b[38;5;167;01mValueError\u001b[39;00m(\n\u001b[32m    338\u001b[39m         \u001b[33mf\u001b[39m\u001b[33m\"\u001b[39m\u001b[33mIPython won\u001b[39m\u001b[33m'\u001b[39m\u001b[33mt let you open fd=\u001b[39m\u001b[38;5;132;01m{\u001b[39;00mfile\u001b[38;5;132;01m}\u001b[39;00m\u001b[33m by default \u001b[39m\u001b[33m\"\u001b[39m\n\u001b[32m    339\u001b[39m         \u001b[33m\"\u001b[39m\u001b[33mas it is likely to crash IPython. If you know what you are doing, \u001b[39m\u001b[33m\"\u001b[39m\n\u001b[32m    340\u001b[39m         \u001b[33m\"\u001b[39m\u001b[33myou can use builtins\u001b[39m\u001b[33m'\u001b[39m\u001b[33m open.\u001b[39m\u001b[33m\"\u001b[39m\n\u001b[32m    341\u001b[39m     )\n\u001b[32m--> \u001b[39m\u001b[32m343\u001b[39m \u001b[38;5;28;01mreturn\u001b[39;00m \u001b[43mio_open\u001b[49m\u001b[43m(\u001b[49m\u001b[43mfile\u001b[49m\u001b[43m,\u001b[49m\u001b[43m \u001b[49m\u001b[43m*\u001b[49m\u001b[43margs\u001b[49m\u001b[43m,\u001b[49m\u001b[43m \u001b[49m\u001b[43m*\u001b[49m\u001b[43m*\u001b[49m\u001b[43mkwargs\u001b[49m\u001b[43m)\u001b[49m\n",
      "\u001b[31mIsADirectoryError\u001b[39m: [Errno 21] Is a directory: 'mlruns'"
     ]
    }
   ],
   "source": [
    "# Load and read the MLmodel file to inspect the metadata\n",
    "with open(mlmodel_path, \"r\") as f:\n",
    "    mlmodel_content = f.read()\n",
    "print(\"MLmodel Content:\")\n",
    "print(mlmodel_content)\n",
    "\n",
    "# Find model siz\n",
    "model_file_path = os.path.join(artifact_uri.replace(\"file://\", \"\"), \"model.pkl\")  # Adjust depending on sklearn model file\n",
    "model_size_bytes = os.path.getsize(model_file_path)\n",
    "print(f\"Model size in bytes: {model_size_bytes}\")"
   ]
  },
  {
   "cell_type": "code",
   "execution_count": 3,
   "id": "f0ef1c9e-da14-4c04-b1ac-5e397b8a30c3",
   "metadata": {},
   "outputs": [
    {
     "name": "stdout",
     "output_type": "stream",
     "text": [
      "Collecting pathlib\n",
      "  Downloading pathlib-1.0.1-py3-none-any.whl.metadata (5.1 kB)\n",
      "Downloading pathlib-1.0.1-py3-none-any.whl (14 kB)\n",
      "Installing collected packages: pathlib\n",
      "Successfully installed pathlib-1.0.1\n"
     ]
    }
   ],
   "source": [
    "!pip install pathlib"
   ]
  },
  {
   "cell_type": "code",
   "execution_count": null,
   "id": "cbf2090a-605f-4d79-93c7-327957765eda",
   "metadata": {},
   "outputs": [],
   "source": []
  }
 ],
 "metadata": {
  "kernelspec": {
   "display_name": "Python 3 (ipykernel)",
   "language": "python",
   "name": "python3"
  },
  "language_info": {
   "codemirror_mode": {
    "name": "ipython",
    "version": 3
   },
   "file_extension": ".py",
   "mimetype": "text/x-python",
   "name": "python",
   "nbconvert_exporter": "python",
   "pygments_lexer": "ipython3",
   "version": "3.12.3"
  }
 },
 "nbformat": 4,
 "nbformat_minor": 5
}
