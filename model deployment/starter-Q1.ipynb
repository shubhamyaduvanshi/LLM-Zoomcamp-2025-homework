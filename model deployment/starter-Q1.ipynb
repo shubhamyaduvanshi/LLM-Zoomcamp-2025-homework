{
 "cells": [
  {
   "cell_type": "code",
   "execution_count": 1,
   "id": "10be0f5f-0dd0-415b-9311-ad2694159017",
   "metadata": {},
   "outputs": [
    {
     "name": "stdout",
     "output_type": "stream",
     "text": [
      "Requirement already satisfied: scikit-learn==1.5.0 in /mnt/c/Users/shubham_yadav/Documents/COXA-ENIT/lab/venv/lib/python3.12/site-packages (1.5.0)\n",
      "Requirement already satisfied: numpy>=1.19.5 in /mnt/c/Users/shubham_yadav/Documents/COXA-ENIT/lab/venv/lib/python3.12/site-packages (from scikit-learn==1.5.0) (2.3.2)\n",
      "Requirement already satisfied: scipy>=1.6.0 in /mnt/c/Users/shubham_yadav/Documents/COXA-ENIT/lab/venv/lib/python3.12/site-packages (from scikit-learn==1.5.0) (1.16.1)\n",
      "Requirement already satisfied: joblib>=1.2.0 in /mnt/c/Users/shubham_yadav/Documents/COXA-ENIT/lab/venv/lib/python3.12/site-packages (from scikit-learn==1.5.0) (1.5.2)\n",
      "Requirement already satisfied: threadpoolctl>=3.1.0 in /mnt/c/Users/shubham_yadav/Documents/COXA-ENIT/lab/venv/lib/python3.12/site-packages (from scikit-learn==1.5.0) (3.6.0)\n"
     ]
    }
   ],
   "source": [
    "!pip install scikit-learn==1.5.0 "
   ]
  },
  {
   "cell_type": "code",
   "execution_count": 2,
   "id": "957d224f-34f5-41a6-93e3-f4e0ad14ef14",
   "metadata": {
    "scrolled": true
   },
   "outputs": [
    {
     "name": "stdout",
     "output_type": "stream",
     "text": [
      "scikit-learn==1.5.0\n",
      "Note: you may need to restart the kernel to use updated packages.\n"
     ]
    }
   ],
   "source": [
    "pip freeze | grep \"scikit-learn==1.5.0\""
   ]
  },
  {
   "cell_type": "code",
   "execution_count": 3,
   "id": "a219afae-282f-4f79-8127-324e61418ab0",
   "metadata": {},
   "outputs": [
    {
     "name": "stdout",
     "output_type": "stream",
     "text": [
      "Python 3.12.3\n"
     ]
    }
   ],
   "source": [
    "!python -V"
   ]
  },
  {
   "cell_type": "code",
   "execution_count": 4,
   "id": "4ae4ad28-5a9e-4b94-a76e-df9ade77d22e",
   "metadata": {},
   "outputs": [],
   "source": [
    "import pickle\n",
    "import pandas as pd"
   ]
  },
  {
   "cell_type": "code",
   "execution_count": 5,
   "id": "99c48626-088c-47e4-b764-63e1f6329015",
   "metadata": {},
   "outputs": [],
   "source": [
    "with open('model.bin', 'rb') as f_in:\n",
    "    dv, model = pickle.load(f_in)"
   ]
  },
  {
   "cell_type": "code",
   "execution_count": 6,
   "id": "5d327fdd-8092-4e23-98d0-54b4a41f1083",
   "metadata": {},
   "outputs": [],
   "source": [
    "categorical = ['PULocationID', 'DOLocationID']\n",
    "\n",
    "def read_data(filename):\n",
    "    df = pd.read_parquet(filename)\n",
    "    \n",
    "    df['duration'] = df.tpep_dropoff_datetime - df.tpep_pickup_datetime\n",
    "    df['duration'] = df.duration.dt.total_seconds() / 60\n",
    "\n",
    "    df = df[(df.duration >= 1) & (df.duration <= 60)].copy()\n",
    "\n",
    "    df[categorical] = df[categorical].fillna(-1).astype('int').astype('str')\n",
    "    \n",
    "    return df"
   ]
  },
  {
   "cell_type": "code",
   "execution_count": 7,
   "id": "ee7fcc89-1b90-44ce-9ce8-35e328f6a007",
   "metadata": {},
   "outputs": [],
   "source": [
    "df = read_data('https://d37ci6vzurychx.cloudfront.net/trip-data/yellow_tripdata_2023-03.parquet')"
   ]
  },
  {
   "cell_type": "code",
   "execution_count": 8,
   "id": "8ca0733d-6cb9-46d9-9940-a7761cf6f1ca",
   "metadata": {},
   "outputs": [],
   "source": [
    "dicts = df[categorical].to_dict(orient='records')\n",
    "X_val = dv.transform(dicts)\n",
    "y_pred = model.predict(X_val)"
   ]
  },
  {
   "cell_type": "code",
   "execution_count": 9,
   "id": "1f384da9-0378-4190-be69-81bffc06d643",
   "metadata": {},
   "outputs": [],
   "source": [
    "##What's the standard deviation of the predicted duration for this dataset?"
   ]
  },
  {
   "cell_type": "code",
   "execution_count": 10,
   "id": "3b007a9a-09fb-4b84-8fa1-ab3c255da9c8",
   "metadata": {},
   "outputs": [
    {
     "data": {
      "text/plain": [
       "np.float64(6.247)"
      ]
     },
     "execution_count": 10,
     "metadata": {},
     "output_type": "execute_result"
    }
   ],
   "source": [
    "round(y_pred.std(), 3)"
   ]
  },
  {
   "cell_type": "code",
   "execution_count": 11,
   "id": "68689265-3e5d-49ed-80e1-cbafd3903a4e",
   "metadata": {},
   "outputs": [],
   "source": [
    "## Preparing the output as per question2 "
   ]
  },
  {
   "cell_type": "code",
   "execution_count": 12,
   "id": "3091bd18-a0ef-4a23-8f9d-f952014d6c52",
   "metadata": {},
   "outputs": [
    {
     "data": {
      "text/plain": [
       "0    2023/03_0\n",
       "1    2023/03_1\n",
       "2    2023/03_2\n",
       "3    2023/03_3\n",
       "4    2023/03_4\n",
       "Name: ride_id, dtype: object"
      ]
     },
     "execution_count": 12,
     "metadata": {},
     "output_type": "execute_result"
    }
   ],
   "source": [
    "df['ride_id'] = (\n",
    "    df['tpep_pickup_datetime'].dt.year.astype(str).str.zfill(4) + '/' +\n",
    "    df['tpep_pickup_datetime'].dt.month.astype(str).str.zfill(2) + '_' +\n",
    "    df.index.astype(str)\n",
    ")\n",
    "\n",
    "df['ride_id'].head()"
   ]
  },
  {
   "cell_type": "code",
   "execution_count": 13,
   "id": "f4db42d9-ae9e-443e-9ed2-6afe098a42cc",
   "metadata": {},
   "outputs": [],
   "source": [
    "df_result = df[[\"ride_id\"]].copy()\n",
    "df_result['duration'] = y_pred\n",
    "\n",
    "output_file = \"output/result.parquet\"\n",
    "df_result.to_parquet(\n",
    "    output_file,\n",
    "    engine='pyarrow',\n",
    "    compression=None,\n",
    "    index=False\n",
    ")"
   ]
  },
  {
   "cell_type": "code",
   "execution_count": 15,
   "id": "d576bd6b-3c84-4e3c-9132-c2d78a0b5da1",
   "metadata": {},
   "outputs": [
    {
     "name": "stdout",
     "output_type": "stream",
     "text": [
      "File size: 68,640,918 bytes (65.46 MB)\n"
     ]
    }
   ],
   "source": [
    "import os\n",
    "\n",
    "size_bytes = os.path.getsize(output_file)\n",
    "size_mb = size_bytes / (1024 * 1024)\n",
    "\n",
    "print(f\"File size: {size_bytes:,} bytes ({size_mb:.2f} MB)\")"
   ]
  },
  {
   "cell_type": "code",
   "execution_count": 16,
   "id": "d0c9cac4-5bb9-411c-baf9-ef63152be94f",
   "metadata": {},
   "outputs": [],
   "source": [
    "## Question3 - Creating the scoring script"
   ]
  },
  {
   "cell_type": "code",
   "execution_count": 17,
   "id": "676e737a-6aab-44e8-af30-c27073c51b71",
   "metadata": {},
   "outputs": [
    {
     "name": "stdout",
     "output_type": "stream",
     "text": [
      "[NbConvertApp] Converting notebook starter-Q1.ipynb to script\n",
      "[NbConvertApp] Writing 3090 bytes to starter-Q1.py\n"
     ]
    }
   ],
   "source": [
    "!jupyter nbconvert --to script starter-Q1.ipynb"
   ]
  },
  {
   "cell_type": "code",
   "execution_count": 18,
   "id": "522dbb12-7263-4d4d-b91d-c5afcae18cef",
   "metadata": {},
   "outputs": [],
   "source": [
    "## Question 4- Now let's put everything into a virtual environment. We'll use pipenv for that."
   ]
  },
  {
   "cell_type": "code",
   "execution_count": 19,
   "id": "7c3196d3-c348-4930-8458-29b184c00067",
   "metadata": {},
   "outputs": [
    {
     "name": "stdout",
     "output_type": "stream",
     "text": [
      "/mnt/c/Users/shubham_yadav/Documents/COXA-ENIT/lab/venv/MLOps Zoompcamp/Models Deployment\n"
     ]
    }
   ],
   "source": [
    "!pwd"
   ]
  },
  {
   "cell_type": "code",
   "execution_count": 20,
   "id": "779f9707-7dc6-4465-b626-98043b5e5414",
   "metadata": {},
   "outputs": [],
   "source": [
    "!export PIPENV_PIPFILE=\"/mnt/c/Users/shubham_yadav/Documents/COXA-ENIT/lab/venv/MLOps Zoompcamp/Models Deployment/Pipfile\""
   ]
  },
  {
   "cell_type": "code",
   "execution_count": 21,
   "id": "8b114665-d0b2-43c6-b404-bd51e458bfd7",
   "metadata": {},
   "outputs": [
    {
     "name": "stdout",
     "output_type": "stream",
     "text": [
      "\u001b[32mCourtesy Notice\u001b[0m:\n",
      "Pipenv found itself running within a virtual environment,  so it will \n",
      "automatically use that environment, instead of  creating its own for any \n",
      "project. You can set\n",
      "\u001b[1;33mPIPENV_IGNORE_VIRTUALENVS\u001b[0m\u001b[1m=\u001b[0m\u001b[1;36m1\u001b[0m to force pipenv to ignore that environment and \n",
      "create  its own instead.\n",
      "You can set \u001b[1;33mPIPENV_VERBOSITY\u001b[0m\u001b[1m=\u001b[0m\u001b[1;36m-1\u001b[0m to suppress this warning.\n",
      "To activate this project's virtualenv, run \u001b[33mpipenv shell\u001b[0m.\n",
      "Alternatively, run a command inside the virtualenv with \u001b[33mpipenv run\u001b[0m.\n",
      "\u001b[1;32mInstalling scikit-learn==1.5.0...\u001b[0m\n",
      "✔ Installation Succeeded\n",
      "\u001b[1;32mInstalling pyarrow...\u001b[0m\n",
      "✔ Installation Succeeded\n",
      "\u001b[1;32mInstalling pandas...\u001b[0m\n",
      "✔ Installation Succeeded\n",
      "\u001b[1;32mInstalling flask...\u001b[0m\n",
      "✔ Installation Succeeded\n",
      "\u001b[1;32mInstalling google-cloud-storage...\u001b[0m\n",
      "✔ Installation Succeeded\n",
      "\u001b[1;32mInstalling prefect...\u001b[0m\n",
      "✔ Installation Succeeded\n",
      "To activate this project's virtualenv, run \u001b[33mpipenv shell\u001b[0m.\n",
      "Alternatively, run a command inside the virtualenv with \u001b[33mpipenv run\u001b[0m.\n",
      "\u001b[1mInstalling dependencies from Pipfile.lock \u001b[0m\u001b[1;39m(f89251)...\u001b[0m\n",
      "\u001b[32mAll dependencies are now up-to-date!\u001b[0m\n",
      "\u001b[1;32mUpgrading\u001b[0m scikit-\u001b[33mlearn\u001b[0m==\u001b[1;36m1.5\u001b[0m.\u001b[1;36m0\u001b[0m, pyarrow, pandas, flask, google-cloud-storage, \n",
      "prefect in \u001b[39m dependencies.\u001b[0m\n",
      "\u001b[?25lBuilding requirements...\n",
      "\u001b[2KResolving dependencies....\n",
      "\u001b[2K✔ Success! Locking packages...\n",
      "\u001b[2K\u001b[32m⠼\u001b[0m Locking packages...\n",
      "\u001b[1A\u001b[2K\u001b[?25lBuilding requirements...\n",
      "\u001b[2KResolving dependencies....\n",
      "\u001b[2K✔ Success! Locking packages...\n",
      "\u001b[2K\u001b[32m⠦\u001b[0m Locking packages...\n",
      "\u001b[1A\u001b[2KTo activate this project's virtualenv, run \u001b[33mpipenv shell\u001b[0m.\n",
      "Alternatively, run a command inside the virtualenv with \u001b[33mpipenv run\u001b[0m.\n",
      "\u001b[1mInstalling dependencies from Pipfile.lock \u001b[0m\u001b[1;39m(f89251)...\u001b[0m\n",
      "\u001b[32mAll dependencies are now up-to-date!\u001b[0m\n",
      "\u001b[1mInstalling dependencies from Pipfile.lock \u001b[0m\u001b[1;39m(f89251)...\u001b[0m\n"
     ]
    }
   ],
   "source": [
    "!pipenv install scikit-learn==1.5.0 pyarrow pandas flask google-cloud-storage prefect --python=3.12"
   ]
  },
  {
   "cell_type": "code",
   "execution_count": 23,
   "id": "031b9140-dcba-4527-8866-7ace2cca8e74",
   "metadata": {},
   "outputs": [
    {
     "name": "stdout",
     "output_type": "stream",
     "text": [
      "hash for the Scikit-Learn dependency is :sha256:057b991ac64b3e75c9c04b5f9395eaf19a6179244c089afdebaad98264bff37c\n"
     ]
    }
   ],
   "source": [
    "from json import load\n",
    "with open(\"Pipfile.lock\", \"rb\") as file_in:\n",
    "    pipfile = load(file_in)\n",
    "    print(f'hash for the Scikit-Learn dependency is :{pipfile[\"default\"][\"scikit-learn\"][\"hashes\"][0]}')"
   ]
  },
  {
   "cell_type": "code",
   "execution_count": 24,
   "id": "8ab8c1b9-afd8-4dbf-84ee-3b707803575f",
   "metadata": {},
   "outputs": [],
   "source": [
    "## question5 - Parametrize the script\n",
    "# Let's now make the script configurable via CLI. We'll create two parameters: year and month.\n",
    "# Run the script for April 2023."
   ]
  },
  {
   "cell_type": "code",
   "execution_count": 26,
   "id": "d1cb123a-2450-4b31-a844-d84a9b67a59e",
   "metadata": {},
   "outputs": [],
   "source": [
    "import os\n",
    "os.chdir(\"/mnt/c/Users/shubham_yadav/Documents/COXA-ENIT/lab/venv/MLOps Zoompcamp/Models Deployment\")"
   ]
  },
  {
   "cell_type": "code",
   "execution_count": 27,
   "id": "8a819271-ebab-401a-9a25-59ca3a86afec",
   "metadata": {},
   "outputs": [
    {
     "name": "stdout",
     "output_type": "stream",
     "text": [
      "/mnt/c/Users/shubham_yadav/Documents/COXA-ENIT/lab/venv/MLOps Zoompcamp/Models Deployment\n"
     ]
    }
   ],
   "source": [
    "!pwd"
   ]
  },
  {
   "cell_type": "code",
   "execution_count": 38,
   "id": "ae192283-2235-4c7c-a3da-6ddf648c0504",
   "metadata": {
    "scrolled": true
   },
   "outputs": [
    {
     "name": "stdout",
     "output_type": "stream",
     "text": [
      "11:41:24.165 | \u001b[36mINFO\u001b[0m    | prefect - Starting temporary server on \u001b[94mhttp://127.0.0.1:8978\u001b[0m\n",
      "See \u001b[94mhttps://docs.prefect.io/v3/concepts/server#how-to-guides\u001b[0m for more information on running a dedicated Prefect server.\n",
      "Traceback (most recent call last):\n",
      "  File \"/mnt/c/Users/shubham_yadav/Documents/COXA-ENIT/lab/venv/MLOps Zoompcamp/Models Deployment/starter-Q1.py\", line 103, in <module>\n",
      "    taxi_pipeline(project_id, bucket_name, year, month)\n",
      "  File \"/mnt/c/Users/shubham_yadav/Documents/COXA-ENIT/lab/venv/lib/python3.12/site-packages/prefect/flows.py\", line 1702, in __call__\n",
      "    return run_flow(\n",
      "           ^^^^^^^^^\n",
      "  File \"/mnt/c/Users/shubham_yadav/Documents/COXA-ENIT/lab/venv/lib/python3.12/site-packages/prefect/flow_engine.py\", line 1552, in run_flow\n",
      "    ret_val = run_flow_sync(**kwargs)\n",
      "              ^^^^^^^^^^^^^^^^^^^^^^^\n",
      "  File \"/mnt/c/Users/shubham_yadav/Documents/COXA-ENIT/lab/venv/lib/python3.12/site-packages/prefect/flow_engine.py\", line 1392, in run_flow_sync\n",
      "    with engine.start():\n",
      "  File \"/usr/lib/python3.12/contextlib.py\", line 137, in __enter__\n",
      "    return next(self.gen)\n",
      "           ^^^^^^^^^^^^^^\n",
      "  File \"/mnt/c/Users/shubham_yadav/Documents/COXA-ENIT/lab/venv/lib/python3.12/site-packages/prefect/flow_engine.py\", line 758, in start\n",
      "    with self.initialize_run():\n",
      "  File \"/usr/lib/python3.12/contextlib.py\", line 137, in __enter__\n",
      "    return next(self.gen)\n",
      "           ^^^^^^^^^^^^^^\n",
      "  File \"/mnt/c/Users/shubham_yadav/Documents/COXA-ENIT/lab/venv/lib/python3.12/site-packages/prefect/flow_engine.py\", line 686, in initialize_run\n",
      "    with SyncClientContext.get_or_create() as client_ctx:\n",
      "  File \"/usr/lib/python3.12/contextlib.py\", line 137, in __enter__\n",
      "    return next(self.gen)\n",
      "           ^^^^^^^^^^^^^^\n",
      "  File \"/mnt/c/Users/shubham_yadav/Documents/COXA-ENIT/lab/venv/lib/python3.12/site-packages/prefect/context.py\", line 267, in get_or_create\n",
      "    with cls() as ctx:\n",
      "         ^^^^^\n",
      "  File \"/mnt/c/Users/shubham_yadav/Documents/COXA-ENIT/lab/venv/lib/python3.12/site-packages/prefect/context.py\", line 240, in __init__\n",
      "    client=get_client(sync_client=True, httpx_settings=httpx_settings),\n",
      "           ^^^^^^^^^^^^^^^^^^^^^^^^^^^^^^^^^^^^^^^^^^^^^^^^^^^^^^^^^^^\n",
      "  File \"/mnt/c/Users/shubham_yadav/Documents/COXA-ENIT/lab/venv/lib/python3.12/site-packages/prefect/client/orchestration/__init__.py\", line 237, in get_client\n",
      "    server.start()\n",
      "  File \"/mnt/c/Users/shubham_yadav/Documents/COXA-ENIT/lab/venv/lib/python3.12/site-packages/prefect/server/api/server.py\", line 878, in start\n",
      "    raise RuntimeError(error_message)\n",
      "RuntimeError: Timed out while attempting to connect to ephemeral Prefect API server.\n",
      "11:41:45.596 | \u001b[36mINFO\u001b[0m    | prefect - Stopping temporary server on \u001b[94mhttp://127.0.0.1:8978\u001b[0m\n"
     ]
    }
   ],
   "source": [
    "!python starter-Q1.py 2023 04"
   ]
  },
  {
   "cell_type": "code",
   "execution_count": 43,
   "id": "37a8fee2-383b-4959-96b9-c2d48880e72d",
   "metadata": {},
   "outputs": [
    {
     "name": "stdout",
     "output_type": "stream",
     "text": [
      "failed to fetch metadata: fork/exec /usr/local/lib/docker/cli-plugins/docker-buildx: no such file or directory\n",
      "\n",
      "DEPRECATED: The legacy builder is deprecated and will be removed in a future release.\n",
      "            Install the buildx component to build images with BuildKit:\n",
      "            https://docs.docker.com/go/buildx/\n",
      "\n",
      "Sending build context to Docker daemon  68.88MB\n",
      "Step 1/11 : FROM agrigorev/zoomcamp-model:mlops-2024-3.10.13-slim\n",
      " ---> 13e5353db264\n",
      "Step 2/11 : RUN apt-get update && apt-get install -y gcc && apt-get clean && rm -rf /var/lib/apt/lists/*\n",
      " ---> Using cache\n",
      " ---> dab9ebdcb8d8\n",
      "Step 3/11 : RUN pip install -U pip\n",
      " ---> Using cache\n",
      " ---> 1ade24a81bb4\n",
      "Step 4/11 : RUN pip install pipenv\n",
      " ---> Using cache\n",
      " ---> a2328c7dcef4\n",
      "Step 5/11 : WORKDIR /app\n",
      " ---> Using cache\n",
      " ---> 0c448f02dd48\n",
      "Step 6/11 : COPY [\"Pipfile\", \"Pipfile.lock\", \"./\"]\n",
      " ---> Using cache\n",
      " ---> 4e02c9f8fc5d\n",
      "Step 7/11 : RUN pipenv install --system --deploy\n",
      " ---> Using cache\n",
      " ---> 611a423ac76c\n",
      "Step 8/11 : RUN pip install pandas numpy scikit-learn prefect\n",
      " ---> Running in 3eebcbe6f0e3\n",
      "Requirement already satisfied: pandas in /usr/local/lib/python3.10/site-packages (2.3.2)\n",
      "Collecting numpy\n",
      "  Downloading numpy-2.2.6-cp310-cp310-manylinux_2_17_x86_64.manylinux2014_x86_64.whl.metadata (62 kB)\n",
      "Requirement already satisfied: scikit-learn in /usr/local/lib/python3.10/site-packages (1.5.0)\n",
      "Requirement already satisfied: prefect in /usr/local/lib/python3.10/site-packages (3.4.15)\n",
      "Requirement already satisfied: python-dateutil>=2.8.2 in /usr/local/lib/python3.10/site-packages (from pandas) (2.9.0.post0)\n",
      "Requirement already satisfied: pytz>=2020.1 in /usr/local/lib/python3.10/site-packages (from pandas) (2025.2)\n",
      "Requirement already satisfied: tzdata>=2022.7 in /usr/local/lib/python3.10/site-packages (from pandas) (2025.2)\n",
      "Collecting scipy>=1.6.0 (from scikit-learn)\n",
      "  Downloading scipy-1.15.3-cp310-cp310-manylinux_2_17_x86_64.manylinux2014_x86_64.whl.metadata (61 kB)\n",
      "Requirement already satisfied: joblib>=1.2.0 in /usr/local/lib/python3.10/site-packages (from scikit-learn) (1.5.2)\n",
      "Requirement already satisfied: threadpoolctl>=3.1.0 in /usr/local/lib/python3.10/site-packages (from scikit-learn) (3.6.0)\n",
      "Requirement already satisfied: aiosqlite<1.0.0,>=0.17.0 in /usr/local/lib/python3.10/site-packages (from prefect) (0.21.0)\n",
      "Requirement already satisfied: alembic<2.0.0,>=1.7.5 in /usr/local/lib/python3.10/site-packages (from prefect) (1.16.5)\n",
      "Requirement already satisfied: anyio<5.0.0,>=4.4.0 in /usr/local/lib/python3.10/site-packages (from prefect) (4.10.0)\n",
      "Requirement already satisfied: apprise<2.0.0,>=1.1.0 in /usr/local/lib/python3.10/site-packages (from prefect) (1.9.4)\n",
      "Requirement already satisfied: asgi-lifespan<3.0,>=1.0 in /usr/local/lib/python3.10/site-packages (from prefect) (2.1.0)\n",
      "Requirement already satisfied: asyncpg<1.0.0,>=0.23 in /usr/local/lib/python3.10/site-packages (from prefect) (0.30.0)\n",
      "Requirement already satisfied: cachetools<7.0,>=5.3 in /usr/local/lib/python3.10/site-packages (from prefect) (5.5.2)\n",
      "Requirement already satisfied: click<9,>=8.0 in /usr/local/lib/python3.10/site-packages (from prefect) (8.2.1)\n",
      "Requirement already satisfied: cloudpickle<4.0,>=2.0 in /usr/local/lib/python3.10/site-packages (from prefect) (3.1.1)\n",
      "Requirement already satisfied: coolname<3.0.0,>=1.0.4 in /usr/local/lib/python3.10/site-packages (from prefect) (2.2.0)\n",
      "Requirement already satisfied: cryptography>=36.0.1 in /usr/local/lib/python3.10/site-packages (from prefect) (45.0.7)\n",
      "Requirement already satisfied: dateparser<2.0.0,>=1.1.1 in /usr/local/lib/python3.10/site-packages (from prefect) (1.2.2)\n",
      "Requirement already satisfied: docker<8.0,>=4.0 in /usr/local/lib/python3.10/site-packages (from prefect) (7.1.0)\n",
      "Requirement already satisfied: exceptiongroup>=1.0.0 in /usr/local/lib/python3.10/site-packages (from prefect) (1.3.0)\n",
      "Requirement already satisfied: fastapi<1.0.0,>=0.111.0 in /usr/local/lib/python3.10/site-packages (from prefect) (0.116.1)\n",
      "Requirement already satisfied: fsspec>=2022.5.0 in /usr/local/lib/python3.10/site-packages (from prefect) (2025.7.0)\n",
      "Requirement already satisfied: graphviz>=0.20.1 in /usr/local/lib/python3.10/site-packages (from prefect) (0.21)\n",
      "Requirement already satisfied: griffe<2.0.0,>=0.49.0 in /usr/local/lib/python3.10/site-packages (from prefect) (1.13.0)\n",
      "Requirement already satisfied: httpcore<2.0.0,>=1.0.5 in /usr/local/lib/python3.10/site-packages (from prefect) (1.0.9)\n",
      "Requirement already satisfied: httpx!=0.23.2,>=0.23 in /usr/local/lib/python3.10/site-packages (from httpx[http2]!=0.23.2,>=0.23->prefect) (0.28.1)\n",
      "Requirement already satisfied: humanize<5.0.0,>=4.9.0 in /usr/local/lib/python3.10/site-packages (from prefect) (4.13.0)\n",
      "Requirement already satisfied: jinja2-humanize-extension>=0.4.0 in /usr/local/lib/python3.10/site-packages (from prefect) (0.4.0)\n",
      "Requirement already satisfied: jinja2<4.0.0,>=3.1.6 in /usr/local/lib/python3.10/site-packages (from prefect) (3.1.6)\n",
      "Requirement already satisfied: jsonpatch<2.0,>=1.32 in /usr/local/lib/python3.10/site-packages (from prefect) (1.33)\n",
      "Requirement already satisfied: jsonschema<5.0.0,>=4.18.0 in /usr/local/lib/python3.10/site-packages (from prefect) (4.25.1)\n",
      "Requirement already satisfied: opentelemetry-api<2.0.0,>=1.27.0 in /usr/local/lib/python3.10/site-packages (from prefect) (1.36.0)\n",
      "Requirement already satisfied: orjson<4.0,>=3.7 in /usr/local/lib/python3.10/site-packages (from prefect) (3.11.3)\n",
      "Requirement already satisfied: packaging<25.1,>=21.3 in /usr/local/lib/python3.10/site-packages (from prefect) (25.0)\n",
      "Requirement already satisfied: pathspec>=0.8.0 in /usr/local/lib/python3.10/site-packages (from prefect) (0.12.1)\n",
      "Requirement already satisfied: pendulum<4,>=3.0.0 in /usr/local/lib/python3.10/site-packages (from prefect) (3.1.0)\n",
      "Requirement already satisfied: prometheus-client>=0.20.0 in /usr/local/lib/python3.10/site-packages (from prefect) (0.22.1)\n",
      "Requirement already satisfied: pydantic!=2.11.0,!=2.11.1,!=2.11.2,!=2.11.3,!=2.11.4,<3.0.0,>=2.10.1 in /usr/local/lib/python3.10/site-packages (from prefect) (2.11.7)\n",
      "Requirement already satisfied: pydantic-core<3.0.0,>=2.12.0 in /usr/local/lib/python3.10/site-packages (from prefect) (2.33.2)\n",
      "Requirement already satisfied: pydantic-extra-types<3.0.0,>=2.8.2 in /usr/local/lib/python3.10/site-packages (from prefect) (2.10.5)\n",
      "Requirement already satisfied: pydantic-settings!=2.9.0,<3.0.0,>2.2.1 in /usr/local/lib/python3.10/site-packages (from prefect) (2.10.1)\n",
      "Requirement already satisfied: python-slugify<9.0,>=5.0 in /usr/local/lib/python3.10/site-packages (from prefect) (8.0.4)\n",
      "Requirement already satisfied: python-socks<3.0,>=2.5.3 in /usr/local/lib/python3.10/site-packages (from python-socks[asyncio]<3.0,>=2.5.3->prefect) (2.7.2)\n",
      "Requirement already satisfied: pyyaml<7.0.0,>=5.4.1 in /usr/local/lib/python3.10/site-packages (from prefect) (6.0.2)\n",
      "Requirement already satisfied: readchar<5.0.0,>=4.0.0 in /usr/local/lib/python3.10/site-packages (from prefect) (4.2.1)\n",
      "Requirement already satisfied: rfc3339-validator<0.2.0,>=0.1.4 in /usr/local/lib/python3.10/site-packages (from prefect) (0.1.4)\n",
      "Requirement already satisfied: rich<15.0,>=11.0 in /usr/local/lib/python3.10/site-packages (from prefect) (14.1.0)\n",
      "Requirement already satisfied: ruamel-yaml>=0.17.0 in /usr/local/lib/python3.10/site-packages (from prefect) (0.18.15)\n",
      "Requirement already satisfied: semver>=3.0.4 in /usr/local/lib/python3.10/site-packages (from prefect) (3.0.4)\n",
      "Requirement already satisfied: sniffio<2.0.0,>=1.3.0 in /usr/local/lib/python3.10/site-packages (from prefect) (1.3.1)\n",
      "Requirement already satisfied: sqlalchemy<3.0.0,>=2.0 in /usr/local/lib/python3.10/site-packages (from sqlalchemy[asyncio]<3.0.0,>=2.0->prefect) (2.0.43)\n",
      "Requirement already satisfied: toml>=0.10.0 in /usr/local/lib/python3.10/site-packages (from prefect) (0.10.2)\n",
      "Requirement already satisfied: typer!=0.12.2,<0.17.0,>=0.12.0 in /usr/local/lib/python3.10/site-packages (from prefect) (0.16.1)\n",
      "Requirement already satisfied: typing-extensions<5.0.0,>=4.10.0 in /usr/local/lib/python3.10/site-packages (from prefect) (4.15.0)\n",
      "Requirement already satisfied: uv>=0.6.0 in /usr/local/lib/python3.10/site-packages (from prefect) (0.8.14)\n",
      "Requirement already satisfied: uvicorn!=0.29.0,>=0.14.0 in /usr/local/lib/python3.10/site-packages (from prefect) (0.35.0)\n",
      "Requirement already satisfied: websockets<16.0,>=13.0 in /usr/local/lib/python3.10/site-packages (from prefect) (15.0.1)\n",
      "Requirement already satisfied: Mako in /usr/local/lib/python3.10/site-packages (from alembic<2.0.0,>=1.7.5->prefect) (1.3.10)\n",
      "Collecting tomli (from alembic<2.0.0,>=1.7.5->prefect)\n",
      "  Downloading tomli-2.2.1-py3-none-any.whl.metadata (10 kB)\n",
      "Requirement already satisfied: idna>=2.8 in /usr/local/lib/python3.10/site-packages (from anyio<5.0.0,>=4.4.0->prefect) (3.10)\n",
      "Requirement already satisfied: requests in /usr/local/lib/python3.10/site-packages (from apprise<2.0.0,>=1.1.0->prefect) (2.32.5)\n",
      "Requirement already satisfied: requests-oauthlib in /usr/local/lib/python3.10/site-packages (from apprise<2.0.0,>=1.1.0->prefect) (2.0.0)\n",
      "Requirement already satisfied: markdown in /usr/local/lib/python3.10/site-packages (from apprise<2.0.0,>=1.1.0->prefect) (3.8.2)\n",
      "Requirement already satisfied: certifi in /usr/local/lib/python3.10/site-packages (from apprise<2.0.0,>=1.1.0->prefect) (2025.8.3)\n",
      "Collecting async-timeout>=4.0.3 (from asyncpg<1.0.0,>=0.23->prefect)\n",
      "  Downloading async_timeout-5.0.1-py3-none-any.whl.metadata (5.1 kB)\n",
      "Requirement already satisfied: regex>=2024.9.11 in /usr/local/lib/python3.10/site-packages (from dateparser<2.0.0,>=1.1.1->prefect) (2025.8.29)\n",
      "Requirement already satisfied: tzlocal>=0.2 in /usr/local/lib/python3.10/site-packages (from dateparser<2.0.0,>=1.1.1->prefect) (5.3.1)\n",
      "Requirement already satisfied: urllib3>=1.26.0 in /usr/local/lib/python3.10/site-packages (from docker<8.0,>=4.0->prefect) (2.5.0)\n",
      "Requirement already satisfied: starlette<0.48.0,>=0.40.0 in /usr/local/lib/python3.10/site-packages (from fastapi<1.0.0,>=0.111.0->prefect) (0.47.3)\n",
      "Requirement already satisfied: colorama>=0.4 in /usr/local/lib/python3.10/site-packages (from griffe<2.0.0,>=0.49.0->prefect) (0.4.6)\n",
      "Requirement already satisfied: h11>=0.16 in /usr/local/lib/python3.10/site-packages (from httpcore<2.0.0,>=1.0.5->prefect) (0.16.0)\n",
      "Requirement already satisfied: MarkupSafe>=2.0 in /usr/local/lib/python3.10/site-packages (from jinja2<4.0.0,>=3.1.6->prefect) (3.0.2)\n",
      "Requirement already satisfied: jsonpointer>=1.9 in /usr/local/lib/python3.10/site-packages (from jsonpatch<2.0,>=1.32->prefect) (3.0.0)\n",
      "Requirement already satisfied: attrs>=22.2.0 in /usr/local/lib/python3.10/site-packages (from jsonschema<5.0.0,>=4.18.0->prefect) (25.3.0)\n",
      "Requirement already satisfied: jsonschema-specifications>=2023.03.6 in /usr/local/lib/python3.10/site-packages (from jsonschema<5.0.0,>=4.18.0->prefect) (2025.4.1)\n",
      "Requirement already satisfied: referencing>=0.28.4 in /usr/local/lib/python3.10/site-packages (from jsonschema<5.0.0,>=4.18.0->prefect) (0.36.2)\n",
      "Requirement already satisfied: rpds-py>=0.7.1 in /usr/local/lib/python3.10/site-packages (from jsonschema<5.0.0,>=4.18.0->prefect) (0.27.1)\n",
      "Requirement already satisfied: importlib-metadata<8.8.0,>=6.0 in /usr/local/lib/python3.10/site-packages (from opentelemetry-api<2.0.0,>=1.27.0->prefect) (8.7.0)\n",
      "Requirement already satisfied: zipp>=3.20 in /usr/local/lib/python3.10/site-packages (from importlib-metadata<8.8.0,>=6.0->opentelemetry-api<2.0.0,>=1.27.0->prefect) (3.23.0)\n",
      "Requirement already satisfied: annotated-types>=0.6.0 in /usr/local/lib/python3.10/site-packages (from pydantic!=2.11.0,!=2.11.1,!=2.11.2,!=2.11.3,!=2.11.4,<3.0.0,>=2.10.1->prefect) (0.7.0)\n",
      "Requirement already satisfied: typing-inspection>=0.4.0 in /usr/local/lib/python3.10/site-packages (from pydantic!=2.11.0,!=2.11.1,!=2.11.2,!=2.11.3,!=2.11.4,<3.0.0,>=2.10.1->prefect) (0.4.1)\n",
      "Requirement already satisfied: python-dotenv>=0.21.0 in /usr/local/lib/python3.10/site-packages (from pydantic-settings!=2.9.0,<3.0.0,>2.2.1->prefect) (1.1.1)\n",
      "Requirement already satisfied: six>=1.5 in /usr/local/lib/python3.10/site-packages (from python-dateutil>=2.8.2->pandas) (1.17.0)\n",
      "Requirement already satisfied: text-unidecode>=1.3 in /usr/local/lib/python3.10/site-packages (from python-slugify<9.0,>=5.0->prefect) (1.3)\n",
      "Requirement already satisfied: markdown-it-py>=2.2.0 in /usr/local/lib/python3.10/site-packages (from rich<15.0,>=11.0->prefect) (4.0.0)\n",
      "Requirement already satisfied: pygments<3.0.0,>=2.13.0 in /usr/local/lib/python3.10/site-packages (from rich<15.0,>=11.0->prefect) (2.19.2)\n",
      "Requirement already satisfied: greenlet>=1 in /usr/local/lib/python3.10/site-packages (from sqlalchemy<3.0.0,>=2.0->sqlalchemy[asyncio]<3.0.0,>=2.0->prefect) (3.2.4)\n",
      "Requirement already satisfied: shellingham>=1.3.0 in /usr/local/lib/python3.10/site-packages (from typer!=0.12.2,<0.17.0,>=0.12.0->prefect) (1.5.4)\n",
      "Requirement already satisfied: cffi>=1.14 in /usr/local/lib/python3.10/site-packages (from cryptography>=36.0.1->prefect) (1.17.1)\n",
      "Requirement already satisfied: pycparser in /usr/local/lib/python3.10/site-packages (from cffi>=1.14->cryptography>=36.0.1->prefect) (2.22)\n",
      "Requirement already satisfied: h2<5,>=3 in /usr/local/lib/python3.10/site-packages (from httpx[http2]!=0.23.2,>=0.23->prefect) (4.3.0)\n",
      "Requirement already satisfied: hyperframe<7,>=6.1 in /usr/local/lib/python3.10/site-packages (from h2<5,>=3->httpx[http2]!=0.23.2,>=0.23->prefect) (6.1.0)\n",
      "Requirement already satisfied: hpack<5,>=4.1 in /usr/local/lib/python3.10/site-packages (from h2<5,>=3->httpx[http2]!=0.23.2,>=0.23->prefect) (4.1.0)\n",
      "Requirement already satisfied: mdurl~=0.1 in /usr/local/lib/python3.10/site-packages (from markdown-it-py>=2.2.0->rich<15.0,>=11.0->prefect) (0.1.2)\n",
      "Requirement already satisfied: charset_normalizer<4,>=2 in /usr/local/lib/python3.10/site-packages (from requests->apprise<2.0.0,>=1.1.0->prefect) (3.4.3)\n",
      "Requirement already satisfied: ruamel.yaml.clib>=0.2.7 in /usr/local/lib/python3.10/site-packages (from ruamel-yaml>=0.17.0->prefect) (0.2.12)\n",
      "Requirement already satisfied: oauthlib>=3.0.0 in /usr/local/lib/python3.10/site-packages (from requests-oauthlib->apprise<2.0.0,>=1.1.0->prefect) (3.3.1)\n",
      "Downloading numpy-2.2.6-cp310-cp310-manylinux_2_17_x86_64.manylinux2014_x86_64.whl (16.8 MB)\n",
      "   ━━━━━━━━━━━━━━━━━━━━━━━━━━━━━━━━━━━━━━━━ 16.8/16.8 MB 380.3 kB/s  0:00:43\n",
      "Downloading async_timeout-5.0.1-py3-none-any.whl (6.2 kB)\n",
      "Downloading scipy-1.15.3-cp310-cp310-manylinux_2_17_x86_64.manylinux2014_x86_64.whl (37.7 MB)\n",
      "   ━━━━━━━━━━━━━━━━━━━━━━━━━━━━━━━━━━━━━━━━ 37.7/37.7 MB 713.7 kB/s  0:00:39\n",
      "Downloading tomli-2.2.1-py3-none-any.whl (14 kB)\n",
      "Installing collected packages: tomli, numpy, async-timeout, scipy\n",
      "\n",
      "Successfully installed async-timeout-5.0.1 numpy-2.2.6 scipy-1.15.3 tomli-2.2.1\n",
      "\u001b[91mWARNING: Running pip as the 'root' user can result in broken permissions and conflicting behaviour with the system package manager, possibly rendering your system unusable. It is recommended to use a virtual environment instead: https://pip.pypa.io/warnings/venv. Use the --root-user-action option if you know what you are doing and want to suppress this warning.\n",
      "\u001b[0m ---> Removed intermediate container 3eebcbe6f0e3\n",
      " ---> ce4e93ce12e9\n",
      "Step 9/11 : COPY [\"starter-Q1.py\", \"./\"]\n",
      " ---> 15f16cce7e4d\n",
      "Step 10/11 : RUN mkdir -p output\n",
      " ---> Running in 10f2e96ad980\n",
      " ---> Removed intermediate container 10f2e96ad980\n",
      " ---> 08cd306b06da\n",
      "Step 11/11 : CMD [\"python\", \"starter-Q1.py\", \"2023\", \"05\"]\n",
      " ---> Running in 8519da4bef53\n",
      " ---> Removed intermediate container 8519da4bef53\n",
      " ---> 98547bf28b41\n",
      "Successfully built 98547bf28b41\n",
      "Successfully tagged ride-duration-prediction:v1\n"
     ]
    }
   ],
   "source": [
    "!docker build -t ride-duration-prediction:v1 ."
   ]
  },
  {
   "cell_type": "code",
   "execution_count": 44,
   "id": "d994ea8a-1542-4589-a754-2594af7a1025",
   "metadata": {},
   "outputs": [
    {
     "name": "stdout",
     "output_type": "stream",
     "text": [
      "11:55:28.811 | INFO    | prefect - Starting temporary server on http://127.0.0.1:8409\n",
      "See https://docs.prefect.io/v3/concepts/server#how-to-guides for more information on running a dedicated Prefect server.\n",
      "11:55:36.142 | INFO    | Flow run 'lemon-lobster' - Beginning flow run 'lemon-lobster' for flow 'Taxi ML Pipeline'\n",
      "11:55:56.247 | INFO    | Task run 'load_data-c0e' - Finished in state Completed()\n",
      "11:55:58.963 | INFO    | Task run 'transform_data-a20' - Finished in state Completed()\n",
      "11:56:12.469 | INFO    | Task run 'prepare_data-9de' - Finished in state Completed()\n",
      "11:56:12.664 | INFO    | Task run 'apply_model-393' - Finished in state Completed()\n",
      "11:56:12.766 | INFO    | Flow run 'lemon-lobster' - Finished in state Completed()\n",
      "The mean predicted duration is 0.192 minutes\n",
      "11:56:12.775 | INFO    | prefect - Stopping temporary server on http://127.0.0.1:8409\n"
     ]
    }
   ],
   "source": [
    "!docker run --rm ride-duration-prediction:v1"
   ]
  },
  {
   "cell_type": "code",
   "execution_count": null,
   "id": "e738e4a7-5399-4b7c-8b2c-e6a4bfb0c49c",
   "metadata": {},
   "outputs": [],
   "source": []
  }
 ],
 "metadata": {
  "kernelspec": {
   "display_name": "Python 3 (ipykernel)",
   "language": "python",
   "name": "python3"
  },
  "language_info": {
   "codemirror_mode": {
    "name": "ipython",
    "version": 3
   },
   "file_extension": ".py",
   "mimetype": "text/x-python",
   "name": "python",
   "nbconvert_exporter": "python",
   "pygments_lexer": "ipython3",
   "version": "3.12.3"
  }
 },
 "nbformat": 4,
 "nbformat_minor": 5
}
